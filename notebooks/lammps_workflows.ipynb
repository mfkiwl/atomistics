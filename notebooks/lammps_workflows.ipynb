{
 "cells": [
  {
   "cell_type": "markdown",
   "id": "29680e01-8658-4085-aada-eaaa9d8705be",
   "metadata": {},
   "source": [
    "# Workflows\n",
    "To demonstrate the workflows implemented in the `atomistics` package, the [LAMMPS](https://www.lammps.org/) molecular \n",
    "dynamics simulation code is used in the following demonstrations. Still the same `workflows` can also be used with other\n",
    "simulation codes:"
   ]
  },
  {
   "cell_type": "code",
   "execution_count": 1,
   "id": "76ec535d-d9cb-4d68-9208-c9b0c029c402",
   "metadata": {},
   "outputs": [
    {
     "name": "stderr",
     "output_type": "stream",
     "text": [
      "/Users/jan/projects/atomistics/atomistics/calculators/lammps/potential.py:288: SettingWithCopyWarning: \n",
      "A value is trying to be set on a copy of a slice from a DataFrame.\n",
      "Try using .loc[row_indexer,col_indexer] = value instead\n",
      "\n",
      "See the caveats in the documentation: https://pandas.pydata.org/pandas-docs/stable/user_guide/indexing.html#returning-a-view-versus-a-copy\n",
      "  df_pot[\"Config\"] = config_lst\n"
     ]
    }
   ],
   "source": [
    "from atomistics.calculators import evaluate_with_lammps, get_potential_by_name\n",
    "\n",
    "potential_dataframe = get_potential_by_name(\n",
    "    potential_name='1999--Mishin-Y--Al--LAMMPS--ipr1'\n",
    ")\n",
    "result_dict = evaluate_with_lammps(\n",
    "    task_dict={},\n",
    "    potential_dataframe=potential_dataframe,\n",
    ")"
   ]
  },
  {
   "cell_type": "markdown",
   "id": "d813a092-a7d8-49e6-8914-02c1b9e105f6",
   "metadata": {},
   "source": [
    "The interatomic potential for Aluminium from Mishin named `1999--Mishin-Y--Al--LAMMPS--ipr1` is used in the evaluation\n",
    "with [LAMMPS](https://www.lammps.org/) `evaluate_with_lammps()`. "
   ]
  },
  {
   "cell_type": "markdown",
   "id": "70bac169-3b94-486f-afa9-efe5005f1cf0",
   "metadata": {},
   "source": [
    "## Elastic Matrix \n",
    "The elastic constants and elastic moduli can be calculated using the `ElasticMatrixWorkflow`: "
   ]
  },
  {
   "cell_type": "code",
   "execution_count": 2,
   "id": "f26f2645-e1c7-4b7e-8414-e4632b1439f9",
   "metadata": {},
   "outputs": [
    {
     "name": "stderr",
     "output_type": "stream",
     "text": [
      "/Users/jan/projects/atomistics/atomistics/calculators/lammps/potential.py:288: SettingWithCopyWarning: \n",
      "A value is trying to be set on a copy of a slice from a DataFrame.\n",
      "Try using .loc[row_indexer,col_indexer] = value instead\n",
      "\n",
      "See the caveats in the documentation: https://pandas.pydata.org/pandas-docs/stable/user_guide/indexing.html#returning-a-view-versus-a-copy\n",
      "  df_pot[\"Config\"] = config_lst\n",
      "/Users/jan/miniforge3/lib/python3.11/site-packages/pylammpsmpi/wrapper/ase.py:165: UserWarning: Warning: setting upper trangular matrix might slow down the calculation\n",
      "  warnings.warn(\n"
     ]
    },
    {
     "name": "stdout",
     "output_type": "stream",
     "text": [
      "OrderedDict([('SGN', 225), ('v0', 66.43012500000002), ('LC', 'CI'), ('Lag_strain_list', ['01', '08', '23']), ('epss', array([-0.005 , -0.0025,  0.    ,  0.0025,  0.005 ])), ('e0', -13.439999952539933), ('strain_energy', [[(-0.005, -13.436318571477456), (-0.0025, -13.439078837682322), (0.0, -13.439999952539933), (0.0024999999999999996, -13.439085818358748), (0.005, -13.436366000141689)], [(-0.005, -13.438173590018806), (-0.0025, -13.43954407461901), (0.0, -13.439999952539933), (0.0024999999999999996, -13.439548790708864), (0.005, -13.438205313732144)], [(-0.005, -13.436741916886653), (-0.0025, -13.439195456175232), (0.0, -13.439999952539933), (0.0024999999999999996, -13.439213481749942), (0.005, -13.436885676373926)]]), ('C', array([[114.10393023,  60.51098897,  60.51098897,   0.        ,\n",
      "          0.        ,   0.        ],\n",
      "       [ 60.51098897, 114.10393023,  60.51098897,   0.        ,\n",
      "          0.        ,   0.        ],\n",
      "       [ 60.51098897,  60.51098897, 114.10393023,   0.        ,\n",
      "          0.        ,   0.        ],\n",
      "       [  0.        ,   0.        ,   0.        ,  51.23931149,\n",
      "          0.        ,   0.        ],\n",
      "       [  0.        ,   0.        ,   0.        ,   0.        ,\n",
      "         51.23931149,   0.        ],\n",
      "       [  0.        ,   0.        ,   0.        ,   0.        ,\n",
      "          0.        ,  51.23931149]])), ('A2', array([2.20131073, 1.0898606 , 1.91886377])), ('BV', 78.37530272473929), ('GV', 41.462175146677424), ('EV', 105.74025607889799), ('nuV', 0.2751412064710683), ('S', array([[ 0.01385713, -0.00480204, -0.00480204,  0.        ,  0.        ,\n",
      "         0.        ],\n",
      "       [-0.00480204,  0.01385713, -0.00480204,  0.        ,  0.        ,\n",
      "         0.        ],\n",
      "       [-0.00480204, -0.00480204,  0.01385713,  0.        ,  0.        ,\n",
      "         0.        ],\n",
      "       [ 0.        ,  0.        ,  0.        ,  0.01951627,  0.        ,\n",
      "         0.        ],\n",
      "       [ 0.        ,  0.        ,  0.        ,  0.        ,  0.01951627,\n",
      "         0.        ],\n",
      "       [ 0.        ,  0.        ,  0.        ,  0.        ,  0.        ,\n",
      "         0.01951627]])), ('BR', 78.37530272473931), ('GR', 37.54162684596518), ('ER', 97.1183728107761), ('nuR', 0.29347581564934205), ('BH', 78.3753027247393), ('GH', 39.501900996321304), ('EH', 101.46008564559224), ('nuH', 0.2842430754793411), ('AVR', 4.962480541224269), ('C_eigval', EigResult(eigenvalues=array([ 53.59294126, 235.12590817,  53.59294126,  51.23931149,\n",
      "        51.23931149,  51.23931149]), eigenvectors=array([[-0.81649658,  0.57735027,  0.11541902,  0.        ,  0.        ,\n",
      "         0.        ],\n",
      "       [ 0.40824829,  0.57735027, -0.75771582,  0.        ,  0.        ,\n",
      "         0.        ],\n",
      "       [ 0.40824829,  0.57735027,  0.6422968 ,  0.        ,  0.        ,\n",
      "         0.        ],\n",
      "       [ 0.        ,  0.        ,  0.        ,  1.        ,  0.        ,\n",
      "         0.        ],\n",
      "       [ 0.        ,  0.        ,  0.        ,  0.        ,  1.        ,\n",
      "         0.        ],\n",
      "       [ 0.        ,  0.        ,  0.        ,  0.        ,  0.        ,\n",
      "         1.        ]])))])\n"
     ]
    }
   ],
   "source": [
    "from ase.build import bulk\n",
    "from atomistics.calculators import evaluate_with_lammps, get_potential_by_name\n",
    "from atomistics.workflows import ElasticMatrixWorkflow\n",
    "\n",
    "potential_dataframe = get_potential_by_name(\n",
    "    potential_name='1999--Mishin-Y--Al--LAMMPS--ipr1'\n",
    ")\n",
    "workflow = ElasticMatrixWorkflow(\n",
    "    structure=bulk(\"Al\", cubic=True), \n",
    "    num_of_point=5, \n",
    "    eps_range=0.005, \n",
    "    sqrt_eta=True, \n",
    "    fit_order=2,\n",
    ")\n",
    "task_dict = workflow.generate_structures()\n",
    "result_dict = evaluate_with_lammps(\n",
    "    task_dict=task_dict,\n",
    "    potential_dataframe=potential_dataframe,\n",
    ")\n",
    "fit_dict = workflow.analyse_structures(output_dict=result_dict)\n",
    "print(fit_dict)"
   ]
  },
  {
   "cell_type": "markdown",
   "id": "262aefd1-9cf9-4b35-8d94-03996b21166b",
   "metadata": {},
   "source": [
    "The `ElasticMatrixWorkflow` takes an `ase.atoms.Atoms` object as `structure` input as well as the number of points \n",
    "`num_of_point` for each compression direction. Depending on the symmetry of the input `structure` the number of \n",
    "calculations required to calculate the elastic matrix changes. The compression and elongation range is defined by the\n",
    "`eps_range` parameter. Furthermore, `sqrt_eta` and `fit_order` describe how the change in energy over compression and\n",
    "elongation is fitted to calculate the resulting pressure. "
   ]
  },
  {
   "cell_type": "markdown",
   "id": "dc5356a8-0b07-4a0a-a549-9a20cf3c64cc",
   "metadata": {},
   "source": [
    "## Energy Volume Curve\n",
    "The `EnergyVolumeCurveWorkflow` can be used to calculate the equilibrium properties: equilibrium volume, equilibrium \n",
    "energy, equilibrium bulk modulus and the pressure derivative of the equilibrium bulk modulus. "
   ]
  },
  {
   "cell_type": "code",
   "execution_count": 3,
   "id": "720a7662-fdee-496d-b355-ff4881f5c633",
   "metadata": {},
   "outputs": [
    {
     "name": "stderr",
     "output_type": "stream",
     "text": [
      "/Users/jan/projects/atomistics/atomistics/calculators/lammps/potential.py:288: SettingWithCopyWarning: \n",
      "A value is trying to be set on a copy of a slice from a DataFrame.\n",
      "Try using .loc[row_indexer,col_indexer] = value instead\n",
      "\n",
      "See the caveats in the documentation: https://pandas.pydata.org/pandas-docs/stable/user_guide/indexing.html#returning-a-view-versus-a-copy\n",
      "  df_pot[\"Config\"] = config_lst\n",
      "/Users/jan/miniforge3/lib/python3.11/site-packages/pylammpsmpi/wrapper/ase.py:165: UserWarning: Warning: setting upper trangular matrix might slow down the calculation\n",
      "  warnings.warn(\n"
     ]
    },
    {
     "name": "stdout",
     "output_type": "stream",
     "text": [
      "{'poly_fit': array([-4.17645808e-05,  1.19746500e-02, -1.03803906e+00,  1.49168639e+01]), 'fit_type': 'polynomial', 'fit_order': 3, 'volume_eq': 66.43019853103964, 'energy_eq': -13.43996804374383, 'bulkmodul_eq': 77.7250135953191, 'b_prime_eq': 1.279502459079921, 'least_square_error': 3.225313797039607e-10, 'volume': [63.10861874999998, 63.77291999999998, 64.43722124999998, 65.1015225, 65.76582375000004, 66.43012500000002, 67.09442624999994, 67.75872750000002, 68.42302874999999, 69.08732999999997, 69.75163125000002], 'energy': [-13.398169481534445, -13.413389552957456, -13.425112589013958, -13.433411420804067, -13.438357630783006, -13.439999952539933, -13.438383476946305, -13.433607982916406, -13.425774537190858, -13.414961805921427, -13.401233093668836]}\n"
     ]
    }
   ],
   "source": [
    "from ase.build import bulk\n",
    "from atomistics.calculators import evaluate_with_lammps, get_potential_by_name\n",
    "from atomistics.workflows import EnergyVolumeCurveWorkflow\n",
    "\n",
    "potential_dataframe = get_potential_by_name(\n",
    "    potential_name='1999--Mishin-Y--Al--LAMMPS--ipr1'\n",
    ")\n",
    "workflow = EnergyVolumeCurveWorkflow(\n",
    "    structure=bulk(\"Al\", cubic=True), \n",
    "    num_points=11,\n",
    "    fit_type=\"polynomial\",\n",
    "    fit_order=3,\n",
    "    vol_range=0.05,\n",
    "    axes=(\"x\", \"y\", \"z\"),\n",
    "    strains=None,\n",
    ")\n",
    "task_dict = workflow.generate_structures()\n",
    "result_dict = evaluate_with_lammps(\n",
    "    task_dict=task_dict,\n",
    "    potential_dataframe=potential_dataframe,\n",
    ")\n",
    "fit_dict = workflow.analyse_structures(output_dict=result_dict)\n",
    "print(fit_dict)"
   ]
  },
  {
   "cell_type": "markdown",
   "id": "13c95c80-137d-49bf-8016-b3c15279fbcf",
   "metadata": {},
   "source": [
    "The input parameters for the `EnergyVolumeCurveWorkflow` in addition to the `ase.atoms.Atoms` object defined \n",
    "as `structure` are: \n",
    "\n",
    "* `num_points` the number of strains to calculate energies and volumes.  \n",
    "* `fit_type` the type of the fit which should be used to calculate the equilibrium properties. This can either be a \n",
    "  `polynomial` fit or a specific equation of state like the Birch equation (`birch`), the Birch-Murnaghan equation \n",
    "  (`birchmurnaghan`) the Murnaghan equation (`murnaghan`), the Pourier Tarnatola eqaution (`pouriertarantola`) or the\n",
    "  Vinet equation (`vinet`).  \n",
    "* `fit_order` for the `polynomial` fit type the order of the polynomial can be set, for the other fit types this \n",
    "  parameter is ignored. \n",
    "* `vol_range` specifies the amount of compression and elongation to be applied relative to the absolute volume. \n",
    "* `axes` specifies the axes which are compressed, typically a uniform compression is applied. \n",
    "* `strains` specifies the strains directly rather than deriving them from the range of volume compression `vol_range`. \n",
    "\n",
    "Beyond calculating the equilibrium properties the `EnergyVolumeCurveWorkflow` can also be used to calculate the thermal\n",
    "expansion using the [Moruzzi, V. L. et al.](https://link.aps.org/doi/10.1103/PhysRevB.37.790)  model: "
   ]
  },
  {
   "cell_type": "code",
   "execution_count": 4,
   "id": "6e963779-cd59-4985-9a72-9652dd1f1408",
   "metadata": {},
   "outputs": [],
   "source": [
    "temperatures, volumes = workflow.get_thermal_expansion(\n",
    "    output_dict=result_dict, \n",
    "    t_min=1, \n",
    "    t_max=1500, \n",
    "    t_step=50, \n",
    "    temperatures=None,\n",
    ")"
   ]
  },
  {
   "cell_type": "markdown",
   "id": "e3f4357d-8b81-41bd-a90b-556f231b9766",
   "metadata": {},
   "source": [
    "The [Moruzzi, V. L. et al.](https://link.aps.org/doi/10.1103/PhysRevB.37.790)  model is a quantum mechanical approximation, so the equilibrium volume at 0K is not\n",
    "the same as the equilibrium volume calculated by fitting the equation of state. "
   ]
  },
  {
   "cell_type": "markdown",
   "id": "ac4095fb-0e11-46bc-8c8d-54bc97ddfe18",
   "metadata": {},
   "source": [
    "## Molecular Dynamics \n",
    "Just like the structure optimization also the molecular dynamics calculation can either be implemented inside the\n",
    "simulation code or in the `atomistics` package. The latter has the advantage that it is the same implementation for all\n",
    "different simulation codes, while the prior has the advantage that it is usually faster and computationally more efficient."
   ]
  },
  {
   "cell_type": "markdown",
   "id": "67e22a39-071a-4e7f-9e55-e9ddb8ea6336",
   "metadata": {},
   "source": [
    "### Implemented in Simulation Code \n",
    "One example of a molecular dynamics calculation with the LAMMPS simulation code is the calculation of the thermal \n",
    "expansion: "
   ]
  },
  {
   "cell_type": "code",
   "execution_count": 5,
   "id": "d3e4bda7-9aa4-4a82-8c51-9606b0e77f75",
   "metadata": {},
   "outputs": [
    {
     "name": "stderr",
     "output_type": "stream",
     "text": [
      "/Users/jan/projects/atomistics/atomistics/calculators/lammps/potential.py:288: SettingWithCopyWarning: \n",
      "A value is trying to be set on a copy of a slice from a DataFrame.\n",
      "Try using .loc[row_indexer,col_indexer] = value instead\n",
      "\n",
      "See the caveats in the documentation: https://pandas.pydata.org/pandas-docs/stable/user_guide/indexing.html#returning-a-view-versus-a-copy\n",
      "  df_pot[\"Config\"] = config_lst\n",
      "/Users/jan/miniforge3/lib/python3.11/site-packages/pylammpsmpi/wrapper/ase.py:165: UserWarning: Warning: setting upper trangular matrix might slow down the calculation\n",
      "  warnings.warn(\n"
     ]
    }
   ],
   "source": [
    "from ase.build import bulk\n",
    "from atomistics.calculators import (\n",
    "    calc_molecular_dynamics_thermal_expansion_with_lammps, \n",
    "    evaluate_with_lammps, \n",
    "    get_potential_by_name,\n",
    ")\n",
    "\n",
    "potential_dataframe = get_potential_by_name(\n",
    "    potential_name='1999--Mishin-Y--Al--LAMMPS--ipr1'\n",
    ")\n",
    "temperatures_md, volumes_md = calc_molecular_dynamics_thermal_expansion_with_lammps(\n",
    "    structure=bulk(\"Al\", cubic=True).repeat([10, 10, 10]),\n",
    "    potential_dataframe=potential_dataframe,\n",
    "    Tstart=15,\n",
    "    Tstop=1500,\n",
    "    Tstep=5,\n",
    "    Tdamp=0.1,\n",
    "    run=100,\n",
    "    thermo=100,\n",
    "    timestep=0.001,\n",
    "    Pstart=0.0,\n",
    "    Pstop=0.0,\n",
    "    Pdamp=1.0,\n",
    "    seed=4928459,\n",
    "    dist=\"gaussian\",\n",
    "    lmp=None,\n",
    ")"
   ]
  },
  {
   "cell_type": "markdown",
   "id": "08c20c91-9e7c-4770-b01f-1765064797dd",
   "metadata": {},
   "source": [
    "In addition to the typical LAMMPS input parameters like the atomistic structure `structure` as `ase.atoms.Atoms` object\n",
    "and the `pandas.DataFrame` for the interatomic potential `potential_dataframe` are: \n",
    "\n",
    "* `Tstart` start temperature \n",
    "* `Tstop` end temperature \n",
    "* `Tstep` temperature step \n",
    "* `Tdamp` temperature damping parameter \n",
    "* `run` number of molecular dynamics steps to be executed during one temperature step\n",
    "* `thermo` refresh rate for the thermo dynamic properties, this should typically be the same as the number of molecular\n",
    "  dynamics steps. \n",
    "* `timestep` time step - typically 1fs defined as `0.001`.\n",
    "* `Pstart` start pressure \n",
    "* `Pstop` end pressure \n",
    "* `Pdamp` pressure damping parameter \n",
    "* `seed` random seed for the molecular dynamics \n",
    "* `dist` initial velocity distribution \n",
    "* `lmp` Lammps library instance as `pylammpsmpi.LammpsASELibrary` object \n",
    "\n",
    "These input parameters are based on the LAMMPS fix `nvt/npt`, you can read more about the specific implementation on the\n",
    "[LAMMPS website](https://docs.lammps.org/fix_nh.html). \n"
   ]
  },
  {
   "cell_type": "markdown",
   "id": "c5bada5c-706c-4d5c-9141-1d6bd146d445",
   "metadata": {},
   "source": [
    "### Langevin Thermostat \n",
    "In addition to the molecular dynamics implemented in the LAMMPS simulation code, the `atomistics` package also provides\n",
    "the `LangevinWorkflow` which implements molecular dynamics independent of the specific simulation code. \n"
   ]
  },
  {
   "cell_type": "code",
   "execution_count": 6,
   "id": "fa69a7f8-940a-4fb9-aae3-1ac68d4255f2",
   "metadata": {},
   "outputs": [
    {
     "name": "stderr",
     "output_type": "stream",
     "text": [
      "/Users/jan/projects/atomistics/atomistics/calculators/lammps/potential.py:288: SettingWithCopyWarning: \n",
      "A value is trying to be set on a copy of a slice from a DataFrame.\n",
      "Try using .loc[row_indexer,col_indexer] = value instead\n",
      "\n",
      "See the caveats in the documentation: https://pandas.pydata.org/pandas-docs/stable/user_guide/indexing.html#returning-a-view-versus-a-copy\n",
      "  df_pot[\"Config\"] = config_lst\n",
      "/Users/jan/miniforge3/lib/python3.11/site-packages/pylammpsmpi/wrapper/ase.py:165: UserWarning: Warning: setting upper trangular matrix might slow down the calculation\n",
      "  warnings.warn(\n"
     ]
    }
   ],
   "source": [
    "from ase.build import bulk\n",
    "from atomistics.calculators import evaluate_with_lammps_library, get_potential_by_name\n",
    "from atomistics.workflows import LangevinWorkflow\n",
    "from pylammpsmpi import LammpsASELibrary\n",
    "\n",
    "steps = 300\n",
    "potential_dataframe = get_potential_by_name(\n",
    "    potential_name='1999--Mishin-Y--Al--LAMMPS--ipr1'\n",
    ")\n",
    "workflow = LangevinWorkflow(\n",
    "    structure=bulk(\"Al\", cubic=True).repeat([2, 2, 2]), \n",
    "    temperature=1000.0,\n",
    "    overheat_fraction=2.0,\n",
    "    damping_timescale=100.0,\n",
    "    time_step=1,\n",
    ")\n",
    "lmp = LammpsASELibrary(\n",
    "    working_directory=None,\n",
    "    cores=1,\n",
    "    comm=None,\n",
    "    logger=None,\n",
    "    log_file=None,\n",
    "    library=None,\n",
    "    diable_log_file=True,\n",
    ")\n",
    "eng_pot_lst, eng_kin_lst = [], []\n",
    "for i in range(steps):\n",
    "    task_dict = workflow.generate_structures()\n",
    "    result_dict = evaluate_with_lammps_library(\n",
    "        task_dict=task_dict,\n",
    "        potential_dataframe=potential_dataframe,\n",
    "        lmp=lmp,\n",
    "    )\n",
    "    eng_pot, eng_kin = workflow.analyse_structures(output_dict=result_dict)\n",
    "    eng_pot_lst.append(eng_pot)\n",
    "    eng_kin_lst.append(eng_kin)\n",
    "lmp.close()"
   ]
  },
  {
   "cell_type": "markdown",
   "id": "d77f71c6-7afd-496d-a3bf-db517623d159",
   "metadata": {},
   "source": [
    "The advantage of this implementation is that the user can directly interact with the simulation between the individual\n",
    "molecular dynamics simulation steps. This provides a lot of flexibility to prototype new simulation methods. The input\n",
    "parameters of the `LangevinWorkflow` are:\n",
    "\n",
    "* `structure` the `ase.atoms.Atoms` object which is used as initial structure for the molecular dynamics calculation \n",
    "* `temperature` the temperature of the molecular dynamics calculation given in Kelvin\n",
    "* `overheat_fraction` the over heating fraction of the Langevin thermostat\n",
    "* `damping_timescale` the damping timescale of the Langevin thermostat \n",
    "* `time_step` the time steps of the Langevin thermostat\n"
   ]
  },
  {
   "cell_type": "markdown",
   "id": "6944d8c5-718d-4d87-956c-d456c151c331",
   "metadata": {},
   "source": [
    "## Harmonic Approximation \n",
    "The harmonic approximation is implemented in two variations, once with constant volume and once including the volume \n",
    "expansion at finite temperature also known as quasi-harmonic approximation. Both of these are based on the [phonopy](https://phonopy.github.io/phonopy/)\n",
    "package. "
   ]
  },
  {
   "cell_type": "markdown",
   "id": "4f699026-d1a8-47a3-b354-6c8572550a50",
   "metadata": {},
   "source": [
    "### Phonons \n",
    "To calculate the phonons at a fixed volume the `PhonopyWorkflow` is used:"
   ]
  },
  {
   "cell_type": "code",
   "execution_count": 7,
   "id": "7ac74f80-d613-4a96-b841-5a2973b949a9",
   "metadata": {},
   "outputs": [
    {
     "name": "stderr",
     "output_type": "stream",
     "text": [
      "/Users/jan/projects/atomistics/atomistics/calculators/lammps/potential.py:288: SettingWithCopyWarning: \n",
      "A value is trying to be set on a copy of a slice from a DataFrame.\n",
      "Try using .loc[row_indexer,col_indexer] = value instead\n",
      "\n",
      "See the caveats in the documentation: https://pandas.pydata.org/pandas-docs/stable/user_guide/indexing.html#returning-a-view-versus-a-copy\n",
      "  df_pot[\"Config\"] = config_lst\n",
      "/Users/jan/miniforge3/lib/python3.11/site-packages/pylammpsmpi/wrapper/ase.py:165: UserWarning: Warning: setting upper trangular matrix might slow down the calculation\n",
      "  warnings.warn(\n"
     ]
    }
   ],
   "source": [
    "from ase.build import bulk\n",
    "from atomistics.calculators import evaluate_with_lammps, get_potential_by_name\n",
    "from atomistics.workflows import PhonopyWorkflow\n",
    "from phonopy.units import VaspToTHz\n",
    "\n",
    "potential_dataframe = get_potential_by_name(\n",
    "    potential_name='1999--Mishin-Y--Al--LAMMPS--ipr1'\n",
    ")\n",
    "workflow = PhonopyWorkflow(\n",
    "    structure=bulk(\"Al\", cubic=True), \n",
    "    interaction_range=10,\n",
    "    factor=VaspToTHz,\n",
    "    displacement=0.01,\n",
    "    dos_mesh=20,\n",
    "    primitive_matrix=None,\n",
    "    number_of_snapshots=None,\n",
    ")\n",
    "task_dict = workflow.generate_structures()\n",
    "result_dict = evaluate_with_lammps(\n",
    "    task_dict=task_dict,\n",
    "    potential_dataframe=potential_dataframe,\n",
    ")\n",
    "mesh_dict, dos_dict = workflow.analyse_structures(output_dict=result_dict)"
   ]
  },
  {
   "cell_type": "markdown",
   "id": "0528bcb2-55ea-4df0-a0b6-71c99dbd9f57",
   "metadata": {},
   "source": [
    "The `PhonopyWorkflow` takes the following inputs: \n",
    "\n",
    "* `structure` the `ase.atoms.Atoms` object to calculate the phonon spectrum\n",
    "* `interaction_range` the cutoff radius to consider for identifying the interaction between the atoms\n",
    "* `factor` conversion factor, typically just `phonopy.units.VaspToTHz` \n",
    "* `displacement` displacement to calculate the forces \n",
    "* `dos_mesh` mesh for the density of states \n",
    "* `primitive_matrix` primitive matrix\n",
    "* `number_of_snapshots` number of snapshots to calculate\n",
    "\n",
    "In addition to the phonon properties, the `PhonopyWorkflow` also enables the calculation of thermal properties: "
   ]
  },
  {
   "cell_type": "code",
   "execution_count": 8,
   "id": "467a9752-e842-43ef-9233-96663b7086dd",
   "metadata": {},
   "outputs": [
    {
     "name": "stdout",
     "output_type": "stream",
     "text": [
      "{'temperatures': array([1.000e+00, 5.100e+01, 1.010e+02, 1.510e+02, 2.010e+02, 2.510e+02,\n",
      "       3.010e+02, 3.510e+02, 4.010e+02, 4.510e+02, 5.010e+02, 5.510e+02,\n",
      "       6.010e+02, 6.510e+02, 7.010e+02, 7.510e+02, 8.010e+02, 8.510e+02,\n",
      "       9.010e+02, 9.510e+02, 1.001e+03, 1.051e+03, 1.101e+03, 1.151e+03,\n",
      "       1.201e+03, 1.251e+03, 1.301e+03, 1.351e+03, 1.401e+03, 1.451e+03,\n",
      "       1.501e+03]), 'free_energy': array([ 0.14914132,  0.14837894,  0.13954171,  0.11738723,  0.08264779,\n",
      "        0.03712237, -0.01759836, -0.08025513, -0.14986079, -0.22563203,\n",
      "       -0.30693668, -0.39325592, -0.48415731, -0.57927552, -0.67829812,\n",
      "       -0.78095507, -0.88701079, -0.99625805, -1.10851315, -1.22361223,\n",
      "       -1.3414082 , -1.46176834, -1.58457228, -1.70971039, -1.8370824 ,\n",
      "       -1.96659625, -2.09816715, -2.23171671, -2.3671723 , -2.5044664 ,\n",
      "       -2.64353611]), 'entropy': array([1.10363972e-08, 5.98829810e+00, 2.96478195e+01, 5.54593816e+01,\n",
      "       7.80099308e+01, 9.71787932e+01, 1.13608521e+02, 1.27894607e+02,\n",
      "       1.40492150e+02, 1.51738264e+02, 1.61883985e+02, 1.71119149e+02,\n",
      "       1.79589851e+02, 1.87410480e+02, 1.94672040e+02, 2.01447985e+02,\n",
      "       2.07798389e+02, 2.13772961e+02, 2.19413270e+02, 2.24754417e+02,\n",
      "       2.29826293e+02, 2.34654555e+02, 2.39261386e+02, 2.43666089e+02,\n",
      "       2.47885561e+02, 2.51934678e+02, 2.55826598e+02, 2.59573021e+02,\n",
      "       2.63184393e+02, 2.66670075e+02, 2.70038493e+02]), 'heat_capacity': array([1.78544597e-07, 1.73410821e+01, 5.37349237e+01, 7.35976295e+01,\n",
      "       8.34733324e+01, 8.87978444e+01, 9.19287453e+01, 9.39060819e+01,\n",
      "       9.52277477e+01, 9.61520364e+01, 9.68225162e+01, 9.73237288e+01,\n",
      "       9.77079209e+01, 9.80087218e+01, 9.82485402e+01, 9.84427587e+01,\n",
      "       9.86022130e+01, 9.87347097e+01, 9.88459861e+01, 9.89403338e+01,\n",
      "       9.90210141e+01, 9.90905402e+01, 9.91508741e+01, 9.92035655e+01,\n",
      "       9.92498509e+01, 9.92907269e+01, 9.93270039e+01, 9.93593459e+01,\n",
      "       9.93883017e+01, 9.94143276e+01, 9.94378055e+01])}\n"
     ]
    }
   ],
   "source": [
    "tp_dict = workflow.get_thermal_properties(\n",
    "    t_min=1, \n",
    "    t_max=1500, \n",
    "    t_step=50, \n",
    "    temperatures=None,\n",
    "    cutoff_frequency=None,\n",
    "    pretend_real=False,\n",
    "    band_indices=None,\n",
    "    is_projection=False,\n",
    ")\n",
    "print(tp_dict)"
   ]
  },
  {
   "cell_type": "markdown",
   "id": "d8c4ac48-293a-45f9-bf77-cca3cc275e52",
   "metadata": {},
   "source": [
    "The calculation of the thermal properties takes additional inputs: \n",
    "\n",
    "* `t_min` minimum temperature\n",
    "* `t_max` maximum temperature\n",
    "* `t_step` temperature step \n",
    "* `temperatures` alternative to `t_min`, `t_max` and `t_step` the array of temperatures can be defined directly\n",
    "* `cutoff_frequency` cutoff frequency to exclude the contributions of frequencies below a certain cut off\n",
    "* `pretend_real` use the absolute values of the phonon frequencies\n",
    "* `band_indices` select bands based on their indices \n",
    "* `is_projection` multiplies the squared eigenvectors - not recommended\n",
    "\n",
    "Furthermore, also the dynamical matrix can be directly calculated with the `PhonopyWorkflow`:\n"
   ]
  },
  {
   "cell_type": "code",
   "execution_count": 9,
   "id": "0856938b-b1cd-40ce-95b7-4605f10ee7a4",
   "metadata": {},
   "outputs": [
    {
     "data": {
      "text/plain": [
       "array(None, dtype=object)"
      ]
     },
     "execution_count": 9,
     "metadata": {},
     "output_type": "execute_result"
    }
   ],
   "source": [
    "mat = workflow.get_dynamical_matrix()\n",
    "mat"
   ]
  },
  {
   "cell_type": "markdown",
   "id": "93bc3fbe-fe43-42d4-aaf9-12ef9994e923",
   "metadata": {},
   "source": [
    "Or alternatively the hesse matrix:"
   ]
  },
  {
   "cell_type": "code",
   "execution_count": 10,
   "id": "c3154b6d-50c1-4327-b7cc-00f48b31fd37",
   "metadata": {},
   "outputs": [
    {
     "data": {
      "text/plain": [
       "array([[ 4.50127147e-02, -1.92714960e-33,  8.52306995e-33, ...,\n",
       "        -6.63514216e-05,  8.82979633e-06,  5.93920137e-05],\n",
       "       [-5.07378488e-34,  4.50127147e-02,  5.07378488e-34, ...,\n",
       "         8.82979633e-06, -6.63514216e-05,  5.93920137e-05],\n",
       "       [ 5.07378488e-34, -5.07378488e-34,  4.50127147e-02, ...,\n",
       "         5.93659141e-05,  5.93659141e-05,  1.73512126e-05],\n",
       "       ...,\n",
       "       [-6.63514216e-05,  8.82979633e-06,  5.93920137e-05, ...,\n",
       "         4.50127147e-02, -1.92714960e-33,  8.52306995e-33],\n",
       "       [ 8.82979633e-06, -6.63514216e-05,  5.93920137e-05, ...,\n",
       "        -5.07378488e-34,  4.50127147e-02,  5.07378488e-34],\n",
       "       [ 5.93659141e-05,  5.93659141e-05,  1.73512126e-05, ...,\n",
       "         5.07378488e-34, -5.07378488e-34,  4.50127147e-02]])"
      ]
     },
     "execution_count": 10,
     "metadata": {},
     "output_type": "execute_result"
    }
   ],
   "source": [
    "mat = workflow.get_hesse_matrix()\n",
    "mat"
   ]
  },
  {
   "cell_type": "markdown",
   "id": "ebc0a064-af95-42e4-854e-67bdb1065ac6",
   "metadata": {},
   "source": [
    "Finally, also the function to calculate the band structure is directly available on the `PhonopyWorkflow`: "
   ]
  },
  {
   "cell_type": "code",
   "execution_count": 11,
   "id": "a9655fa5-bf39-47f2-ae30-0450b40bf252",
   "metadata": {},
   "outputs": [],
   "source": [
    "band_structure = workflow.get_band_structure(\n",
    "    npoints=101, \n",
    "    with_eigenvectors=False, \n",
    "    with_group_velocities=False\n",
    ")"
   ]
  },
  {
   "cell_type": "markdown",
   "id": "e8d2dcce-a5c6-4301-8c0e-bf0ca11043e9",
   "metadata": {},
   "source": [
    "This band structure can also be visualised using the built-in plotting function: "
   ]
  },
  {
   "cell_type": "code",
   "execution_count": 12,
   "id": "4ad1f1e4-9496-4e99-afa0-fd67c72c26f4",
   "metadata": {},
   "outputs": [
    {
     "data": {
      "text/plain": [
       "<Axes: title={'center': 'Bandstructure'}, xlabel='Bandpath', ylabel='Frequency [THz]'>"
      ]
     },
     "execution_count": 12,
     "metadata": {},
     "output_type": "execute_result"
    },
    {
     "data": {
      "image/png": "[encoded data removed]",
      "text/plain": [
       "<Figure size 640x480 with 1 Axes>"
      ]
     },
     "metadata": {},
     "output_type": "display_data"
    }
   ],
   "source": [
    "workflow.plot_band_structure()"
   ]
  },
  {
   "cell_type": "markdown",
   "id": "ae251474-875a-4af2-9290-74e9785490cd",
   "metadata": {},
   "source": [
    "Just like the desnsity of states which can be plotted using:"
   ]
  },
  {
   "cell_type": "code",
   "execution_count": 13,
   "id": "82da60b3-3930-4ff1-879e-65895112aecb",
   "metadata": {},
   "outputs": [
    {
     "data": {
      "text/plain": [
       "<Axes: title={'center': 'Phonon DOS vs Energy'}, xlabel='Frequency [THz]', ylabel='DOS'>"
      ]
     },
     "execution_count": 13,
     "metadata": {},
     "output_type": "execute_result"
    },
    {
     "data": {
      "image/png": "[encoded data removed]",
      "text/plain": [
       "<Figure size 640x480 with 1 Axes>"
      ]
     },
     "metadata": {},
     "output_type": "display_data"
    }
   ],
   "source": [
    "workflow.plot_dos()"
   ]
  },
  {
   "cell_type": "markdown",
   "id": "93e6fb35-cc50-4235-9885-406c41c6a486",
   "metadata": {},
   "source": [
    "### Quasi-harmonic Approximation \n",
    "To include the volume expansion with finite temperature the `atomistics` package implements the `QuasiHarmonicWorkflow`:"
   ]
  },
  {
   "cell_type": "code",
   "execution_count": 14,
   "id": "9387e3aa-b349-49a9-b7b9-0ac1d7f209d5",
   "metadata": {},
   "outputs": [
    {
     "name": "stderr",
     "output_type": "stream",
     "text": [
      "/Users/jan/projects/atomistics/atomistics/calculators/lammps/potential.py:288: SettingWithCopyWarning: \n",
      "A value is trying to be set on a copy of a slice from a DataFrame.\n",
      "Try using .loc[row_indexer,col_indexer] = value instead\n",
      "\n",
      "See the caveats in the documentation: https://pandas.pydata.org/pandas-docs/stable/user_guide/indexing.html#returning-a-view-versus-a-copy\n",
      "  df_pot[\"Config\"] = config_lst\n",
      "/Users/jan/miniforge3/lib/python3.11/site-packages/pylammpsmpi/wrapper/ase.py:165: UserWarning: Warning: setting upper trangular matrix might slow down the calculation\n",
      "  warnings.warn(\n"
     ]
    }
   ],
   "source": [
    "from ase.build import bulk\n",
    "from atomistics.calculators import evaluate_with_lammps, get_potential_by_name\n",
    "from atomistics.workflows import QuasiHarmonicWorkflow\n",
    "\n",
    "potential_dataframe = get_potential_by_name(\n",
    "    potential_name='1999--Mishin-Y--Al--LAMMPS--ipr1'\n",
    ")\n",
    "workflow = QuasiHarmonicWorkflow(\n",
    "    structure=bulk(\"Al\", cubic=True), \n",
    "    num_points=11,\n",
    "    vol_range=0.05,\n",
    "    interaction_range=10,\n",
    "    factor=VaspToTHz,\n",
    "    displacement=0.01,\n",
    "    dos_mesh=20,\n",
    "    primitive_matrix=None,\n",
    "    number_of_snapshots=None,\n",
    ")\n",
    "task_dict = workflow.generate_structures()\n",
    "result_dict = evaluate_with_lammps(\n",
    "    task_dict=task_dict,\n",
    "    potential_dataframe=potential_dataframe,\n",
    ")\n",
    "fit_dict = workflow.analyse_structures(output_dict=result_dict)"
   ]
  },
  {
   "cell_type": "markdown",
   "id": "b5167f8d-c90f-4bf0-a7c0-fd4dfdd35667",
   "metadata": {},
   "source": [
    "The `QuasiHarmonicWorkflow` is a combination of the `EnergyVolumeCurveWorkflow` and the `PhonopyWorkflow`. Consequently, \n",
    "the inputs are a superset of the inputs of these two workflows. \n",
    "\n",
    "Based on the `QuasiHarmonicWorkflow` the thermal expansion can be calculated:"
   ]
  },
  {
   "cell_type": "code",
   "execution_count": 15,
   "id": "76426cc0-38c8-480e-9fd1-fbcb41c8afec",
   "metadata": {},
   "outputs": [],
   "source": [
    "temperatures, volumes = workflow.get_thermal_expansion(\n",
    "    output_dict=result_dict, \n",
    "    t_min=1, \n",
    "    t_max=1500, \n",
    "    t_step=50, \n",
    "    temperatures=None,\n",
    "    cutoff_frequency=None,\n",
    "    pretend_real=False,\n",
    "    band_indices=None,\n",
    "    is_projection=False,\n",
    "    quantum_mechanical=True,\n",
    ")"
   ]
  },
  {
   "cell_type": "markdown",
   "id": "1fb5c6e3-83a4-4503-a0f1-4958ebc6361c",
   "metadata": {},
   "source": [
    "This requires the same inputs as the calculation of the thermal properties `get_thermal_properties()` with the \n",
    "`PhonopyWorkflow`. The additional parameter `quantum_mechanical` specifies whether the classical harmonic oscillator or \n",
    "the quantum mechanical harmonic oscillator is used to calculate the free energy. "
   ]
  },
  {
   "cell_type": "markdown",
   "id": "3cf34091-d7f5-464a-b386-9b81c1fa853a",
   "metadata": {},
   "source": [
    "## Structure Optimization \n",
    "In analogy to the molecular dynamics calculation also the structure optimization could in principle be defined inside \n",
    "the simulation code or on the python level. Still currently the `atomistics` package only supports the structure \n",
    "optimization defined inside the simulation codes. "
   ]
  },
  {
   "cell_type": "markdown",
   "id": "e58b5d2e-8839-48c6-b72e-0fa09ace20ce",
   "metadata": {},
   "source": [
    "### Volume and Positions \n",
    "To optimize both the volume of the supercell as well as the positions inside the supercell the `atomistics` package\n",
    "implements the `optimize_positions_and_volume()` workflow:"
   ]
  },
  {
   "cell_type": "code",
   "execution_count": 16,
   "id": "a7f38a78-11b9-41c2-82c9-7c30b3a9b005",
   "metadata": {},
   "outputs": [
    {
     "name": "stderr",
     "output_type": "stream",
     "text": [
      "/Users/jan/projects/atomistics/atomistics/calculators/lammps/potential.py:288: SettingWithCopyWarning: \n",
      "A value is trying to be set on a copy of a slice from a DataFrame.\n",
      "Try using .loc[row_indexer,col_indexer] = value instead\n",
      "\n",
      "See the caveats in the documentation: https://pandas.pydata.org/pandas-docs/stable/user_guide/indexing.html#returning-a-view-versus-a-copy\n",
      "  df_pot[\"Config\"] = config_lst\n",
      "/Users/jan/miniforge3/lib/python3.11/site-packages/pylammpsmpi/wrapper/ase.py:165: UserWarning: Warning: setting upper trangular matrix might slow down the calculation\n",
      "  warnings.warn(\n"
     ]
    },
    {
     "data": {
      "text/plain": [
       "Atoms(symbols='Al4', pbc=True, cell=[[4.05000466219724, 2.4799126230458533e-16, 2.4799126230458533e-16], [0.0, 4.05000466219724, 2.4799126230458533e-16], [0.0, 0.0, 4.05000466219724]])"
      ]
     },
     "execution_count": 16,
     "metadata": {},
     "output_type": "execute_result"
    }
   ],
   "source": [
    "from ase.build import bulk\n",
    "from atomistics.calculators import evaluate_with_lammps, get_potential_by_name\n",
    "from atomistics.workflows import optimize_positions_and_volume\n",
    "\n",
    "structure = bulk(\"Al\", a=4.0, cubic=True)\n",
    "potential_dataframe = get_potential_by_name(\n",
    "    potential_name='1999--Mishin-Y--Al--LAMMPS--ipr1'\n",
    ")\n",
    "result_dict = evaluate_with_lammps(\n",
    "    task_dict=optimize_positions_and_volume(structure=structure),\n",
    "    potential_dataframe=potential_dataframe,\n",
    ")\n",
    "structure_opt = result_dict[\"structure_with_optimized_positions_and_volume\"]\n",
    "structure_opt"
   ]
  },
  {
   "cell_type": "markdown",
   "id": "c375f310-78c2-426a-8f77-669e9bec855f",
   "metadata": {},
   "source": [
    "The result is the optimized atomistic structure as part of the result dictionary. "
   ]
  },
  {
   "cell_type": "markdown",
   "id": "6d4ef070-f0f1-4f56-afff-ff6322d3729a",
   "metadata": {},
   "source": [
    "### Positions \n",
    "The optimization of the positions inside the supercell without the optimization of the supercell volume is possible with\n",
    "the `optimize_positions()` workflow:"
   ]
  },
  {
   "cell_type": "code",
   "execution_count": 17,
   "id": "9a50125b-a97a-4445-b140-b8019c035902",
   "metadata": {},
   "outputs": [
    {
     "name": "stderr",
     "output_type": "stream",
     "text": [
      "/Users/jan/projects/atomistics/atomistics/calculators/lammps/potential.py:288: SettingWithCopyWarning: \n",
      "A value is trying to be set on a copy of a slice from a DataFrame.\n",
      "Try using .loc[row_indexer,col_indexer] = value instead\n",
      "\n",
      "See the caveats in the documentation: https://pandas.pydata.org/pandas-docs/stable/user_guide/indexing.html#returning-a-view-versus-a-copy\n",
      "  df_pot[\"Config\"] = config_lst\n",
      "/Users/jan/miniforge3/lib/python3.11/site-packages/pylammpsmpi/wrapper/ase.py:165: UserWarning: Warning: setting upper trangular matrix might slow down the calculation\n",
      "  warnings.warn(\n"
     ]
    },
    {
     "data": {
      "text/plain": [
       "Atoms(symbols='Al4', pbc=True, cell=[4.0, 4.0, 4.0])"
      ]
     },
     "execution_count": 17,
     "metadata": {},
     "output_type": "execute_result"
    }
   ],
   "source": [
    "from ase.build import bulk\n",
    "from atomistics.calculators import evaluate_with_lammps, get_potential_by_name\n",
    "from atomistics.workflows import optimize_positions\n",
    "\n",
    "structure = bulk(\"Al\", a=4.0, cubic=True)\n",
    "potential_dataframe = get_potential_by_name(\n",
    "    potential_name='1999--Mishin-Y--Al--LAMMPS--ipr1'\n",
    ")\n",
    "result_dict = evaluate_with_lammps(\n",
    "    task_dict=optimize_positions(structure=structure),\n",
    "    potential_dataframe=potential_dataframe,\n",
    ")\n",
    "structure_opt = result_dict[\"structure_with_optimized_positions\"]\n",
    "structure_opt"
   ]
  },
  {
   "cell_type": "markdown",
   "id": "d027161c-abd3-4267-a10f-cb404c3ebbfd",
   "metadata": {},
   "source": [
    "The result is the optimized atomistic structure as part of the result dictionary. "
   ]
  },
  {
   "cell_type": "code",
   "execution_count": null,
   "id": "a84ef4fc-a9a7-4386-921f-7b77af81a166",
   "metadata": {},
   "outputs": [],
   "source": []
  }
 ],
 "metadata": {
  "kernelspec": {
   "display_name": "Python 3 (ipykernel)",
   "language": "python",
   "name": "python3"
  },
  "language_info": {
   "codemirror_mode": {
    "name": "ipython",
    "version": 3
   },
   "file_extension": ".py",
   "mimetype": "text/x-python",
   "name": "python",
   "nbconvert_exporter": "python",
   "pygments_lexer": "ipython3",
   "version": "3.11.6"
  }
 },
 "nbformat": 4,
 "nbformat_minor": 5
}
