{
 "cells": [
  {
   "cell_type": "markdown",
   "id": "99a57203-1a92-426f-b3b7-fbc0bed73dd7",
   "metadata": {},
   "source": [
    "# Calculate Free Energy "
   ]
  },
  {
   "cell_type": "code",
   "execution_count": 1,
   "id": "7006743f-6ea0-48c5-9b0f-f5dd66f25ee2",
   "metadata": {},
   "outputs": [],
   "source": [
    "from ase.build import bulk\n",
    "import numpy as np\n",
    "from atomistics.workflows import optimize_positions_and_volume, LangevinWorkflow, PhonopyWorkflow, QuasiHarmonicWorkflow\n",
    "from atomistics.calculators import evaluate_with_lammps_library, evaluate_with_lammps, get_potential_by_name, calc_molecular_dynamics_langevin_with_lammps, evaluate_with_hessian\n",
    "from pylammpsmpi import LammpsASELibrary\n",
    "from phonopy.units import VaspToTHz\n",
    "from tqdm import tqdm\n",
    "import matplotlib.pyplot as plt\n",
    "import pandas"
   ]
  },
  {
   "cell_type": "code",
   "execution_count": 2,
   "id": "edeb4cee-e7c6-408a-90b3-32dd14c0ebc9",
   "metadata": {},
   "outputs": [],
   "source": [
    "steps = 3000"
   ]
  },
  {
   "cell_type": "code",
   "execution_count": 3,
   "id": "55318609-df80-48f6-8544-1e41b0c304d5",
   "metadata": {},
   "outputs": [],
   "source": [
    "structure_bulk = bulk(\"Al\", cubic=True)"
   ]
  },
  {
   "cell_type": "code",
   "execution_count": 4,
   "id": "af6699de-fb42-4ce8-ab40-1c7442c2c6a8",
   "metadata": {},
   "outputs": [],
   "source": [
    "df_pot_selected = pandas.DataFrame({\n",
    "    \"Config\": [[\n",
    "        \"pair_style morse/smooth/linear 9.0\",\n",
    "        \"pair_coeff * * 0.5 1.8 2.95\"\n",
    "    ]],\n",
    "    \"Filename\": [[]],\n",
    "    \"Model\": [\"Morse\"],\n",
    "    \"Name\": [\"Morse\"],\n",
    "    \"Species\": [[\"Al\"]],\n",
    "})"
   ]
  },
  {
   "cell_type": "code",
   "execution_count": 5,
   "id": "16b51316-c39c-4aba-aa2f-fa92f4f854c8",
   "metadata": {},
   "outputs": [
    {
     "name": "stderr",
     "output_type": "stream",
     "text": [
      "/Users/janssen/projects/pylammpsmpi/pylammpsmpi/wrapper/ase.py:165: UserWarning: Warning: setting upper trangular matrix might slow down the calculation\n",
      "  warnings.warn(\n"
     ]
    }
   ],
   "source": [
    "task_dict = optimize_positions_and_volume(structure=structure_bulk)\n",
    "result_dict = evaluate_with_lammps(\n",
    "    task_dict=task_dict,\n",
    "    potential_dataframe=df_pot_selected,\n",
    ")\n",
    "structure_opt = result_dict[\"structure_with_optimized_positions_and_volume\"]"
   ]
  },
  {
   "cell_type": "code",
   "execution_count": 6,
   "id": "b080f3ce-4eba-493d-b4b5-3b90354a84f1",
   "metadata": {},
   "outputs": [],
   "source": [
    "structure = structure_opt.repeat([3, 3, 3])"
   ]
  },
  {
   "cell_type": "markdown",
   "id": "3823c713-38eb-40aa-ab4c-51e254390320",
   "metadata": {},
   "source": [
    "## Harmonic Approximation"
   ]
  },
  {
   "cell_type": "code",
   "execution_count": 7,
   "id": "b3eeb5d4-6a99-4b08-a5dd-65743b35e71d",
   "metadata": {},
   "outputs": [],
   "source": [
    "workflow_fix = PhonopyWorkflow(\n",
    "    structure=structure,\n",
    "    interaction_range=10,\n",
    "    factor=VaspToTHz,\n",
    "    displacement=0.01,\n",
    "    dos_mesh=20,\n",
    "    primitive_matrix=None,\n",
    "    number_of_snapshots=None,\n",
    ")\n",
    "structure_dict = workflow_fix.generate_structures()\n",
    "result_dict = evaluate_with_lammps(\n",
    "    task_dict=structure_dict,\n",
    "    potential_dataframe=df_pot_selected,\n",
    ")\n",
    "workflow_fix.analyse_structures(output_dict=result_dict)\n",
    "term_base_dict = workflow_fix.get_thermal_properties(\n",
    "    t_min=1,\n",
    "    t_max=1500,\n",
    "    t_step=50,\n",
    "    temperatures=None,\n",
    "    cutoff_frequency=None,\n",
    "    pretend_real=False,\n",
    "    band_indices=None,\n",
    "    is_projection=False,\n",
    ")"
   ]
  },
  {
   "cell_type": "markdown",
   "id": "0640a73b-8a76-4eb1-bb64-66e389d0f71c",
   "metadata": {},
   "source": [
    "## Quasi-Harmonic Approximation"
   ]
  },
  {
   "cell_type": "code",
   "execution_count": 8,
   "id": "c40054b0-3492-48a2-93ad-34615caca7e6",
   "metadata": {},
   "outputs": [],
   "source": [
    "workflow_qh = QuasiHarmonicWorkflow(\n",
    "    structure=structure_opt,\n",
    "    num_points=11,\n",
    "    vol_range=0.05,\n",
    "    interaction_range=10,\n",
    "    factor=VaspToTHz,\n",
    "    displacement=0.01,\n",
    "    dos_mesh=20,\n",
    "    primitive_matrix=None,\n",
    "    number_of_snapshots=None,\n",
    ")\n",
    "structure_dict = workflow_qh.generate_structures()\n",
    "result_dict = evaluate_with_lammps(\n",
    "    task_dict=structure_dict,\n",
    "    potential_dataframe=df_pot_selected,\n",
    ")\n",
    "workflow_qh.analyse_structures(output_dict=result_dict)\n",
    "term_qh_dict = workflow_qh.get_thermal_properties(\n",
    "    t_min=1,\n",
    "    t_max=1500,\n",
    "    t_step=250,\n",
    "    temperatures=None,\n",
    "    cutoff_frequency=None,\n",
    "    pretend_real=False,\n",
    "    band_indices=None,\n",
    "    is_projection=False,\n",
    ")"
   ]
  },
  {
   "cell_type": "code",
   "execution_count": 9,
   "id": "05b3a33f-7071-4d71-82ce-4f769b95ee6e",
   "metadata": {},
   "outputs": [],
   "source": [
    "lattice_constant_lst = np.array(term_qh_dict['volumes']) ** (1/3)\n",
    "temperature_lst = term_qh_dict['temperatures']"
   ]
  },
  {
   "cell_type": "markdown",
   "id": "8cd12417-574b-48c3-966d-4428c8cbe9b0",
   "metadata": {},
   "source": [
    "## Thermo Dynamic Integration"
   ]
  },
  {
   "cell_type": "code",
   "execution_count": 10,
   "id": "ba4687ec-04f5-44cb-87ea-d16cc57572d6",
   "metadata": {},
   "outputs": [],
   "source": [
    "steps_lst = list(range(steps))"
   ]
  },
  {
   "cell_type": "code",
   "execution_count": 11,
   "id": "c2f42a9f-b979-4eec-807b-9230a440dd84",
   "metadata": {},
   "outputs": [],
   "source": [
    "lambda_lst = np.linspace(0.0, 1.0, 5)"
   ]
  },
  {
   "cell_type": "code",
   "execution_count": 12,
   "id": "a2aafca6-faa2-48ff-9f40-86483acd2389",
   "metadata": {},
   "outputs": [
    {
     "name": "stderr",
     "output_type": "stream",
     "text": [
      "100%|██████████████████████████████████████| 3000/3000 [00:06<00:00, 492.51it/s]\n",
      "100%|██████████████████████████████████████| 3000/3000 [00:06<00:00, 493.53it/s]\n",
      "100%|██████████████████████████████████████| 3000/3000 [00:06<00:00, 495.52it/s]\n",
      "100%|██████████████████████████████████████| 3000/3000 [00:06<00:00, 491.63it/s]\n",
      "100%|██████████████████████████████████████| 3000/3000 [00:06<00:00, 491.19it/s]\n",
      "100%|██████████████████████████████████████| 3000/3000 [00:06<00:00, 483.00it/s]\n",
      "100%|██████████████████████████████████████| 3000/3000 [00:06<00:00, 482.25it/s]\n",
      "100%|██████████████████████████████████████| 3000/3000 [00:06<00:00, 485.54it/s]\n",
      "100%|██████████████████████████████████████| 3000/3000 [00:06<00:00, 477.18it/s]\n",
      "100%|██████████████████████████████████████| 3000/3000 [00:06<00:00, 490.47it/s]\n",
      "100%|██████████████████████████████████████| 3000/3000 [00:06<00:00, 481.73it/s]\n",
      "100%|██████████████████████████████████████| 3000/3000 [00:06<00:00, 485.10it/s]\n",
      "100%|██████████████████████████████████████| 3000/3000 [00:06<00:00, 478.19it/s]\n",
      "100%|██████████████████████████████████████| 3000/3000 [00:06<00:00, 486.54it/s]\n",
      "100%|██████████████████████████████████████| 3000/3000 [00:06<00:00, 481.30it/s]\n",
      "100%|██████████████████████████████████████| 3000/3000 [00:06<00:00, 483.99it/s]\n",
      "100%|██████████████████████████████████████| 3000/3000 [00:06<00:00, 475.80it/s]\n",
      "100%|██████████████████████████████████████| 3000/3000 [00:06<00:00, 489.86it/s]\n",
      "100%|██████████████████████████████████████| 3000/3000 [00:06<00:00, 478.65it/s]\n",
      "100%|██████████████████████████████████████| 3000/3000 [00:06<00:00, 483.02it/s]\n",
      "100%|██████████████████████████████████████| 3000/3000 [00:06<00:00, 475.40it/s]\n",
      "100%|██████████████████████████████████████| 3000/3000 [00:06<00:00, 482.79it/s]\n",
      "100%|██████████████████████████████████████| 3000/3000 [00:06<00:00, 481.36it/s]\n",
      "100%|██████████████████████████████████████| 3000/3000 [00:06<00:00, 479.56it/s]\n",
      "100%|██████████████████████████████████████| 3000/3000 [00:06<00:00, 477.11it/s]\n",
      "100%|██████████████████████████████████████| 3000/3000 [00:06<00:00, 490.32it/s]\n",
      "100%|██████████████████████████████████████| 3000/3000 [00:06<00:00, 482.52it/s]\n",
      "100%|██████████████████████████████████████| 3000/3000 [00:06<00:00, 486.44it/s]\n",
      "100%|██████████████████████████████████████| 3000/3000 [00:06<00:00, 485.65it/s]\n",
      "100%|██████████████████████████████████████| 3000/3000 [00:06<00:00, 484.69it/s]\n",
      "100%|██████████████████████████████████████| 3000/3000 [00:06<00:00, 475.92it/s]\n",
      "100%|██████████████████████████████████████| 3000/3000 [00:06<00:00, 479.79it/s]\n",
      "100%|██████████████████████████████████████| 3000/3000 [00:06<00:00, 478.60it/s]\n",
      "100%|██████████████████████████████████████| 3000/3000 [00:06<00:00, 474.93it/s]\n",
      "100%|██████████████████████████████████████| 3000/3000 [00:06<00:00, 476.57it/s]\n"
     ]
    }
   ],
   "source": [
    "free_energy_lst, eng_lambda_dependence_lst = [], []\n",
    "for lattice_constant, temperature in zip(lattice_constant_lst, temperature_lst):\n",
    "    structure = bulk(\"Al\", a=lattice_constant, cubic=True).repeat([3, 3, 3])\n",
    "    equilibrium_lammps = evaluate_with_lammps(task_dict={\"calc_energy\": structure}, potential_dataframe=df_pot_selected)['energy']\n",
    "    equilibrium_hessian = evaluate_with_hessian(task_dict={\"calc_energy\": structure}, structure_equilibrium=structure, force_constants=workflow_fix.get_hesse_matrix(), bulk_modulus=0, shear_modulus=0,)['energy']\n",
    "    workflow_fix = PhonopyWorkflow(\n",
    "        structure=structure,\n",
    "        interaction_range=10,\n",
    "        factor=VaspToTHz,\n",
    "        displacement=0.01,\n",
    "        dos_mesh=20,\n",
    "        primitive_matrix=None,\n",
    "        number_of_snapshots=None,\n",
    "    )\n",
    "    structure_dict = workflow_fix.generate_structures()\n",
    "    result_dict = evaluate_with_lammps(\n",
    "        task_dict=structure_dict,\n",
    "        potential_dataframe=df_pot_selected,\n",
    "    )\n",
    "    workflow_fix.analyse_structures(output_dict=result_dict)\n",
    "    term_fix_dict = workflow_fix.get_thermal_properties(\n",
    "        t_min=1,\n",
    "        t_max=1500,\n",
    "        t_step=250,\n",
    "        temperatures=None,\n",
    "        cutoff_frequency=None,\n",
    "        pretend_real=False,\n",
    "        band_indices=None,\n",
    "        is_projection=False,\n",
    "    )\n",
    "    energy_pot_all_lst, energy_mean_lst, energy_kin_all_lst = [], [], []\n",
    "    for lambda_parameter in lambda_lst: \n",
    "        thermo_eng_pot_lst, thermo_eng_kin_lst = [], []\n",
    "        workflow_md_thermo = LangevinWorkflow(\n",
    "            structure=structure,\n",
    "            temperature=temperature,\n",
    "            overheat_fraction=2.0,\n",
    "            damping_timescale=100.0,\n",
    "            time_step=1,\n",
    "        )\n",
    "        lmp = LammpsASELibrary(\n",
    "            working_directory=None,\n",
    "            cores=1,\n",
    "            comm=None,\n",
    "            logger=None,\n",
    "            log_file=None,\n",
    "            library=None,\n",
    "            diable_log_file=True,\n",
    "        )\n",
    "        for i in tqdm(steps_lst):\n",
    "            task_dict = workflow_md_thermo.generate_structures()\n",
    "            hessian_dict = evaluate_with_hessian(\n",
    "                task_dict=task_dict,\n",
    "                structure_equilibrium=structure,\n",
    "                force_constants=workflow_fix.get_hesse_matrix(),\n",
    "                bulk_modulus=0,\n",
    "                shear_modulus=0,\n",
    "            )\n",
    "            lammps_dict = evaluate_with_lammps_library(\n",
    "                task_dict=task_dict,\n",
    "                potential_dataframe=df_pot_selected,\n",
    "                lmp=lmp,\n",
    "            )\n",
    "            result_dict = {\n",
    "                \"forces\": {0: lambda_parameter * hessian_dict[\"forces\"][0] + (1-lambda_parameter) * lammps_dict[\"forces\"][0]},\n",
    "                \"energy\": {0: lambda_parameter * hessian_dict[\"energy\"][0] + (1-lambda_parameter) * (lammps_dict[\"energy\"][0] - equilibrium_lammps)},\n",
    "            }\n",
    "            eng_pot, eng_kin = workflow_md_thermo.analyse_structures(output_dict=result_dict)\n",
    "            thermo_eng_pot_lst.append(eng_pot)\n",
    "            thermo_eng_kin_lst.append(eng_kin)\n",
    "        lmp.close()\n",
    "        thermo_energy = np.array(thermo_eng_pot_lst) + np.array(thermo_eng_kin_lst)\n",
    "        energy_mean_lst.append(np.mean(thermo_energy[1000:]))\n",
    "        energy_pot_all_lst.append(thermo_eng_pot_lst)\n",
    "        energy_kin_all_lst.append(thermo_eng_kin_lst)\n",
    "    eng_lambda_dependence_lst.append(np.array(energy_mean_lst) / len(structure) * 1000)\n",
    "    fit = np.poly1d(np.polyfit(lambda_lst, np.array(energy_mean_lst) / len(structure) * 1000, 3))\n",
    "    integral = np.polyint(fit)\n",
    "    free_energy_lst.append(integral(1.0) - integral(0.0))"
   ]
  },
  {
   "cell_type": "markdown",
   "id": "61ac00f2-f724-44cf-a587-37edb3db0f13",
   "metadata": {},
   "source": [
    "## Summary"
   ]
  },
  {
   "cell_type": "code",
   "execution_count": 13,
   "id": "16d54aed-5461-4546-9ef5-92b416805b1c",
   "metadata": {},
   "outputs": [
    {
     "data": {
      "text/plain": [
       "<matplotlib.legend.Legend at 0x152e14e20>"
      ]
     },
     "execution_count": 13,
     "metadata": {},
     "output_type": "execute_result"
    },
    {
     "data": {
      "image/png": "[encoded data removed]",
      "text/plain": [
       "<Figure size 640x480 with 1 Axes>"
      ]
     },
     "metadata": {},
     "output_type": "display_data"
    }
   ],
   "source": [
    "plt.plot(term_base_dict['temperatures'], term_base_dict['free_energy']/ len(structure) * len(structure_bulk), label=\"Harmonic\")\n",
    "plt.plot(term_qh_dict['temperatures'], term_qh_dict['free_energy'], label=\"Quasi-Harmonic\")\n",
    "plt.plot(term_qh_dict['temperatures'], term_qh_dict['free_energy'] + np.array(free_energy_lst) / 1000, label=\"Thermodynamic Integration\")\n",
    "plt.xlabel(\"Temperature (K)\")\n",
    "plt.ylabel(\"Free Energy (eV)\")\n",
    "plt.legend()"
   ]
  },
  {
   "cell_type": "code",
   "execution_count": null,
   "id": "f4770ab9-f96f-41da-b679-93adb00aec8e",
   "metadata": {},
   "outputs": [],
   "source": []
  }
 ],
 "metadata": {
  "kernelspec": {
   "display_name": "Python 3 (ipykernel)",
   "language": "python",
   "name": "python3"
  },
  "language_info": {
   "codemirror_mode": {
    "name": "ipython",
    "version": 3
   },
   "file_extension": ".py",
   "mimetype": "text/x-python",
   "name": "python",
   "nbconvert_exporter": "python",
   "pygments_lexer": "ipython3",
   "version": "3.10.13"
  }
 },
 "nbformat": 4,
 "nbformat_minor": 5
}
