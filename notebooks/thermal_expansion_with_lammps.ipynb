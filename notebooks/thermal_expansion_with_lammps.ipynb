{
 "cells": [
  {
   "cell_type": "markdown",
   "id": "ce2efe0c-f86c-4cbd-ab3f-2aae9c5a574d",
   "metadata": {},
   "source": [
    "## Thermal Expansion \n",
    "Calculate the thermal expansion for a Morse Pair potential using the [LAMMPS](https://www.lammps.org/) molecular dynamics\n",
    "simulation code. In the following three methods to calculate the thermal expansion are introduced and compared for a \n",
    "Morse Pair Potential for Aluminium. \n",
    "\n",
    "As a first step the potential is defined for the [LAMMPS](https://www.lammps.org/) molecular dynamics simulation code \n",
    "by specifying the `pair_style` and `pair_coeff` commands for the [Morse Pair Potential](https://docs.lammps.org/pair_morse.html)\n",
    "as well as the Aluminium bulk structure: "
   ]
  },
  {
   "cell_type": "code",
   "execution_count": 1,
   "id": "7a96bac5-5afe-4924-90e5-04f6e6b2bedb",
   "metadata": {},
   "outputs": [],
   "source": [
    "from ase.build import bulk\n",
    "import pandas\n",
    "\n",
    "potential_dataframe = pandas.DataFrame({\n",
    "    \"Config\": [[\n",
    "        \"pair_style morse/smooth/linear 9.0\",\n",
    "        \"pair_coeff * * 0.5 1.8 2.95\"\n",
    "    ]],\n",
    "    \"Filename\": [[]],\n",
    "    \"Model\": [\"Morse\"],\n",
    "    \"Name\": [\"Morse\"],\n",
    "    \"Species\": [[\"Al\"]],\n",
    "})\n",
    "\n",
    "structure = bulk(\"Al\", a=4.05, cubic=True)"
   ]
  },
  {
   "cell_type": "markdown",
   "id": "fe980834-e174-464a-8c07-04db9889a8c6",
   "metadata": {},
   "source": [
    "The `pandas.DataFrame` based format to specify interatomic potentials is the same `pylammpsmpi` uses to interface with \n",
    "the [NIST database for interatomic potentials](https://www.ctcms.nist.gov/potentials). In comparison to just providing\n",
    "the `pair_style` and `pair_coeff` commands, this extended format enables referencing specific files for the interatomic\n",
    "potentials `\"Filename\": [[]],` as well as the atomic species `\"Species\": [[\"Al\"]],` to enable consistency checks if the \n",
    "interatomic potential implements all the interactions to simulate a given atomic structure. "
   ]
  },
  {
   "cell_type": "markdown",
   "id": "b825e555-5e3d-43c2-8c51-50207ead60b5",
   "metadata": {},
   "source": [
    "Finally, the last step of the preparation before starting the actual calculation is optimizing the interatomic structure. \n",
    "While for the Morse potential used in this example this is not necessary, it is essential for extending this example to\n",
    "other interactomic potentials. For the structure optimization the `optimize_positions_and_volume()` function is imported\n",
    "and applied on the `ase.atoms.Atoms` bulk structure for Aluminium:"
   ]
  },
  {
   "cell_type": "code",
   "execution_count": 2,
   "id": "7bd4ed1a-bffe-40f9-99f8-706797418877",
   "metadata": {},
   "outputs": [
    {
     "data": {
      "text/plain": [
       "{'optimize_positions_and_volume': Atoms(symbols='Al4', pbc=True, cell=[4.05, 4.05, 4.05])}"
      ]
     },
     "execution_count": 2,
     "metadata": {},
     "output_type": "execute_result"
    }
   ],
   "source": [
    "from atomistics.workflows import optimize_positions_and_volume\n",
    "\n",
    "task_dict = optimize_positions_and_volume(structure=structure)\n",
    "task_dict"
   ]
  },
  {
   "cell_type": "markdown",
   "id": "ed380b51-efa8-4ebb-bb27-b4aca90b21ec",
   "metadata": {},
   "source": [
    "It returns a `task_dict` with a single task, the optimization of the positions and the volume of the Aluminium structure.\n",
    "This task is executed with the [LAMMPS](https://www.lammps.org/) molecular dynamics simulation code using the \n",
    "`evaluate_with_lammps()` function:"
   ]
  },
  {
   "cell_type": "code",
   "execution_count": 3,
   "id": "991eaf43-0c4b-4ca2-8494-2b11684f4a79",
   "metadata": {},
   "outputs": [
    {
     "name": "stderr",
     "output_type": "stream",
     "text": [
      "/home/janssen/mambaforge/lib/python3.10/site-packages/pylammpsmpi/wrapper/ase.py:165: UserWarning: Warning: setting upper trangular matrix might slow down the calculation\n",
      "  warnings.warn(\n"
     ]
    }
   ],
   "source": [
    "from atomistics.calculators import evaluate_with_lammps\n",
    "\n",
    "result_dict = evaluate_with_lammps(\n",
    "    task_dict=task_dict,\n",
    "    potential_dataframe=potential_dataframe,\n",
    ")\n",
    "structure_opt = result_dict[\"structure_with_optimized_positions_and_volume\"]"
   ]
  },
  {
   "cell_type": "markdown",
   "id": "6750cc4c-106f-4066-80ad-860bf6980732",
   "metadata": {},
   "source": [
    "The `result_dict` just contains a single element, the `ase.atoms.Atoms` structure object with optimized positions and \n",
    "volume. After this step the preparation is completed and the three different approximations can be compared in the following."
   ]
  },
  {
   "cell_type": "markdown",
   "id": "6c120581-efd6-4204-8413-75ee81065db1",
   "metadata": {},
   "source": [
    "### Equation of State \n",
    "The first approximation to calculate the thermal expansion is based on the Equation of State derived by [Moruzzi, V. L. et al.](https://link.aps.org/doi/10.1103/PhysRevB.37.790).\n",
    "So in analogy to the previous example of calculating the elastic properties from the Equation of State, the `EnergyVolumeCurveWorkflow`\n",
    "is initialized with the default parameters: "
   ]
  },
  {
   "cell_type": "code",
   "execution_count": 4,
   "id": "b69b6ee2-b526-4913-a6c7-36018e8960af",
   "metadata": {},
   "outputs": [
    {
     "data": {
      "text/plain": [
       "{'calc_energy': OrderedDict([(0.95,\n",
       "               Atoms(symbols='Al4', pbc=True, cell=[[3.9786988461213992, 2.43625040333692e-16, 2.43625040333692e-16], [0.0, 3.9786988461213992, 2.43625040333692e-16], [0.0, 0.0, 3.9786988461213992]])),\n",
       "              (0.96,\n",
       "               Atoms(symbols='Al4', pbc=True, cell=[[3.992610493736228, 2.4447688306981026e-16, 2.4447688306981026e-16], [0.0, 3.992610493736228, 2.4447688306981026e-16], [0.0, 0.0, 3.992610493736228]])),\n",
       "              (0.97,\n",
       "               Atoms(symbols='Al4', pbc=True, cell=[[4.00642586504517, 2.4532283058243666e-16, 2.4532283058243666e-16], [0.0, 4.00642586504517, 2.4532283058243666e-16], [0.0, 0.0, 4.00642586504517]])),\n",
       "              (0.98,\n",
       "               Atoms(symbols='Al4', pbc=True, cell=[[4.020146608667117, 2.461629838203636e-16, 2.461629838203636e-16], [0.0, 4.020146608667117, 2.461629838203636e-16], [0.0, 0.0, 4.020146608667117]])),\n",
       "              (0.99,\n",
       "               Atoms(symbols='Al4', pbc=True, cell=[[4.033774328510742, 2.469974409946722e-16, 2.469974409946722e-16], [0.0, 4.033774328510742, 2.469974409946722e-16], [0.0, 0.0, 4.033774328510742]])),\n",
       "              (1.0,\n",
       "               Atoms(symbols='Al4', pbc=True, cell=[[4.047310585424964, 2.478262976797941e-16, 2.478262976797941e-16], [0.0, 4.047310585424964, 2.478262976797941e-16], [0.0, 0.0, 4.047310585424964]])),\n",
       "              (1.01,\n",
       "               Atoms(symbols='Al4', pbc=True, cell=[[4.060756898772644, 2.486496469098726e-16, 2.486496469098726e-16], [0.0, 4.060756898772644, 2.486496469098726e-16], [0.0, 0.0, 4.060756898772644]])),\n",
       "              (1.02,\n",
       "               Atoms(symbols='Al4', pbc=True, cell=[[4.074114747931804, 2.494675792706855e-16, 2.494675792706855e-16], [0.0, 4.074114747931804, 2.494675792706855e-16], [0.0, 0.0, 4.074114747931804]])),\n",
       "              (1.03,\n",
       "               Atoms(symbols='Al4', pbc=True, cell=[[4.087385573728375, 2.5028018298737613e-16, 2.5028018298737613e-16], [0.0, 4.087385573728375, 2.5028018298737613e-16], [0.0, 0.0, 4.087385573728375]])),\n",
       "              (1.04,\n",
       "               Atoms(symbols='Al4', pbc=True, cell=[[4.100570779804249, 2.51087544008222e-16, 2.51087544008222e-16], [0.0, 4.100570779804249, 2.51087544008222e-16], [0.0, 0.0, 4.100570779804249]])),\n",
       "              (1.05,\n",
       "               Atoms(symbols='Al4', pbc=True, cell=[[4.113671733924125, 2.518897460846561e-16, 2.518897460846561e-16], [0.0, 4.113671733924125, 2.518897460846561e-16], [0.0, 0.0, 4.113671733924125]]))])}"
      ]
     },
     "execution_count": 4,
     "metadata": {},
     "output_type": "execute_result"
    }
   ],
   "source": [
    "from atomistics.workflows.evcurve.workflow import EnergyVolumeCurveWorkflow\n",
    "\n",
    "workflow = EnergyVolumeCurveWorkflow(\n",
    "    structure=structure_opt,\n",
    "    num_points=11,\n",
    "    fit_type='polynomial',\n",
    "    fit_order=3,\n",
    "    vol_range=0.05,\n",
    "    axes=['x', 'y', 'z'],\n",
    "    strains=None,\n",
    ")\n",
    "structure_dict = workflow.generate_structures()\n",
    "structure_dict"
   ]
  },
  {
   "cell_type": "markdown",
   "id": "8f5d1e8d-0204-4dca-9298-878b9b2f6406",
   "metadata": {},
   "source": [
    "After the initialization the `generate_structures()` function is called to generate the atomistic structures which are\n",
    "then in the second step evaluated with the [LAMMPS](https://www.lammps.org/) molecular dynamics simulation code to derive\n",
    "the equilibrium properties:"
   ]
  },
  {
   "cell_type": "code",
   "execution_count": 5,
   "id": "7d1f126e-4fd0-41c5-986b-91d3b5910e3e",
   "metadata": {},
   "outputs": [
    {
     "data": {
      "text/plain": [
       "{'energy': {0.95: -14.609207927145926,\n",
       "  0.96: -14.656740101454448,\n",
       "  0.97: -14.692359030099395,\n",
       "  0.98: -14.716883724875528,\n",
       "  0.99: -14.731079276327009,\n",
       "  1.0: -14.735659820057942,\n",
       "  1.01: -14.731295089579728,\n",
       "  1.02: -14.718611862249286,\n",
       "  1.03: -14.698196715842329,\n",
       "  1.04: -14.670598736769112,\n",
       "  1.05: -14.636332030744796}}"
      ]
     },
     "execution_count": 5,
     "metadata": {},
     "output_type": "execute_result"
    }
   ],
   "source": [
    "result_dict = evaluate_with_lammps(\n",
    "    task_dict=structure_dict, \n",
    "    potential_dataframe=potential_dataframe\n",
    ")\n",
    "result_dict"
   ]
  },
  {
   "cell_type": "markdown",
   "id": "fb679eb1-338f-4485-a953-791e147fe632",
   "metadata": {},
   "source": [
    "While in the previous example the fit of the energy volume curve was used directly, there the output of the fit, in\n",
    "particular the derived equilibrium properties are the input for the Debye model as defined by [Moruzzi, V. L. et al.](https://link.aps.org/doi/10.1103/PhysRevB.37.790):"
   ]
  },
  {
   "cell_type": "code",
   "execution_count": 6,
   "id": "f0d0c14c-784a-41f7-8cfd-5ebd988e55c7",
   "metadata": {},
   "outputs": [
    {
     "name": "stderr",
     "output_type": "stream",
     "text": [
      "/home/janssen/mambaforge/lib/python3.10/site-packages/atomistics/shared/thermo/debye.py:9: RuntimeWarning: overflow encountered in exp\n",
      "  return xi**3 / (np.exp(xi) - 1)\n"
     ]
    }
   ],
   "source": [
    "from atomistics.shared.thermo.debye import get_debye_model\n",
    "from atomistics.shared.thermo.thermo import get_thermo_bulk_model\n",
    "import numpy as np\n",
    "\n",
    "debye_model = get_debye_model(\n",
    "    fit_dict=workflow.analyse_structures(output_dict=result_dict), \n",
    "    masses=structure.get_masses(), \n",
    "    num_steps=50\n",
    ")\n",
    "T_debye_low, T_debye_high = debye_model.debye_temperature\n",
    "pes = get_thermo_bulk_model(\n",
    "    temperatures=np.linspace(1, 1500, 200),\n",
    "    debye_model=debye_model,\n",
    ")"
   ]
  },
  {
   "cell_type": "markdown",
   "id": "35ab7b86-0688-4520-ad47-ea54b4bfde86",
   "metadata": {},
   "source": [
    "The output of the Debye model provides the change of the temperature specific optimal volume `pes.get_minimum_energy_path()`\n",
    "which can be plotted over the temperature `pes.temperatures` to determine the thermal expansion. "
   ]
  },
  {
   "cell_type": "markdown",
   "id": "88ccd1f0-98c5-4e13-ab2c-febe5d3f235b",
   "metadata": {},
   "source": [
    "### Quasi-Harmonic Approximation \n",
    "While the [Moruzzi, V. L. et al.](https://link.aps.org/doi/10.1103/PhysRevB.37.790) approach based on the Einstein crystal\n",
    "is limited to a single frequency, the quasi-harmonic model includes the volume dependent free energy. Inside the \n",
    "`atomistics` package the harmonic and quasi-harmonic model are implemented based on an interface to the [Phonopy](https://phonopy.github.io/phonopy/)\n",
    "framework. Still the user interface is still structured in the same three steps of (1) generating structures, (2) evaluating \n",
    "these structures and (3) fitting the corresponding model. Starting with the initialization of the `QuasiHarmonicWorkflow`\n",
    "which combines the `PhonopyWorkflow` with the `EnergyVolumeCurveWorkflow`:"
   ]
  },
  {
   "cell_type": "code",
   "execution_count": 7,
   "id": "493663b9-ea0c-4234-87ef-8f70774794f4",
   "metadata": {},
   "outputs": [
    {
     "data": {
      "text/plain": [
       "{'calc_energy': OrderedDict([(0.95,\n",
       "               Atoms(symbols='Al4', pbc=True, cell=[[3.9786988461213992, 2.43625040333692e-16, 2.43625040333692e-16], [0.0, 3.9786988461213992, 2.43625040333692e-16], [0.0, 0.0, 3.9786988461213992]])),\n",
       "              (0.96,\n",
       "               Atoms(symbols='Al4', pbc=True, cell=[[3.992610493736228, 2.4447688306981026e-16, 2.4447688306981026e-16], [0.0, 3.992610493736228, 2.4447688306981026e-16], [0.0, 0.0, 3.992610493736228]])),\n",
       "              (0.97,\n",
       "               Atoms(symbols='Al4', pbc=True, cell=[[4.00642586504517, 2.4532283058243666e-16, 2.4532283058243666e-16], [0.0, 4.00642586504517, 2.4532283058243666e-16], [0.0, 0.0, 4.00642586504517]])),\n",
       "              (0.98,\n",
       "               Atoms(symbols='Al4', pbc=True, cell=[[4.020146608667117, 2.461629838203636e-16, 2.461629838203636e-16], [0.0, 4.020146608667117, 2.461629838203636e-16], [0.0, 0.0, 4.020146608667117]])),\n",
       "              (0.99,\n",
       "               Atoms(symbols='Al4', pbc=True, cell=[[4.033774328510742, 2.469974409946722e-16, 2.469974409946722e-16], [0.0, 4.033774328510742, 2.469974409946722e-16], [0.0, 0.0, 4.033774328510742]])),\n",
       "              (1.0,\n",
       "               Atoms(symbols='Al4', pbc=True, cell=[[4.047310585424964, 2.478262976797941e-16, 2.478262976797941e-16], [0.0, 4.047310585424964, 2.478262976797941e-16], [0.0, 0.0, 4.047310585424964]])),\n",
       "              (1.01,\n",
       "               Atoms(symbols='Al4', pbc=True, cell=[[4.060756898772644, 2.486496469098726e-16, 2.486496469098726e-16], [0.0, 4.060756898772644, 2.486496469098726e-16], [0.0, 0.0, 4.060756898772644]])),\n",
       "              (1.02,\n",
       "               Atoms(symbols='Al4', pbc=True, cell=[[4.074114747931804, 2.494675792706855e-16, 2.494675792706855e-16], [0.0, 4.074114747931804, 2.494675792706855e-16], [0.0, 0.0, 4.074114747931804]])),\n",
       "              (1.03,\n",
       "               Atoms(symbols='Al4', pbc=True, cell=[[4.087385573728375, 2.5028018298737613e-16, 2.5028018298737613e-16], [0.0, 4.087385573728375, 2.5028018298737613e-16], [0.0, 0.0, 4.087385573728375]])),\n",
       "              (1.04,\n",
       "               Atoms(symbols='Al4', pbc=True, cell=[[4.100570779804249, 2.51087544008222e-16, 2.51087544008222e-16], [0.0, 4.100570779804249, 2.51087544008222e-16], [0.0, 0.0, 4.100570779804249]])),\n",
       "              (1.05,\n",
       "               Atoms(symbols='Al4', pbc=True, cell=[[4.113671733924125, 2.518897460846561e-16, 2.518897460846561e-16], [0.0, 4.113671733924125, 2.518897460846561e-16], [0.0, 0.0, 4.113671733924125]]))]),\n",
       " 'calc_forces': {(0.95,\n",
       "   0): Atoms(symbols='Al108', pbc=True, cell=[[11.936096538364197, 7.30875121001076e-16, 7.30875121001076e-16], [0.0, 11.936096538364197, 7.30875121001076e-16], [0.0, 0.0, 11.936096538364197]]),\n",
       "  (0.96,\n",
       "   0): Atoms(symbols='Al108', pbc=True, cell=[[11.977831481208684, 7.334306492094308e-16, 7.334306492094308e-16], [0.0, 11.977831481208684, 7.334306492094308e-16], [0.0, 0.0, 11.977831481208684]]),\n",
       "  (0.97,\n",
       "   0): Atoms(symbols='Al108', pbc=True, cell=[[12.01927759513551, 7.3596849174731e-16, 7.3596849174731e-16], [0.0, 12.01927759513551, 7.3596849174731e-16], [0.0, 0.0, 12.01927759513551]]),\n",
       "  (0.98,\n",
       "   0): Atoms(symbols='Al108', pbc=True, cell=[[12.060439826001351, 7.384889514610908e-16, 7.384889514610908e-16], [0.0, 12.060439826001351, 7.384889514610908e-16], [0.0, 0.0, 12.060439826001351]]),\n",
       "  (0.99,\n",
       "   0): Atoms(symbols='Al108', pbc=True, cell=[[12.101322985532228, 7.409923229840166e-16, 7.409923229840166e-16], [0.0, 12.101322985532228, 7.409923229840166e-16], [0.0, 0.0, 12.101322985532228]]),\n",
       "  (1.0,\n",
       "   0): Atoms(symbols='Al108', pbc=True, cell=[[12.141931756274893, 7.434788930393824e-16, 7.434788930393824e-16], [0.0, 12.141931756274893, 7.434788930393824e-16], [0.0, 0.0, 12.141931756274893]]),\n",
       "  (1.01,\n",
       "   0): Atoms(symbols='Al108', pbc=True, cell=[[12.182270696317932, 7.459489407296179e-16, 7.459489407296179e-16], [0.0, 12.182270696317932, 7.459489407296179e-16], [0.0, 0.0, 12.182270696317932]]),\n",
       "  (1.02,\n",
       "   0): Atoms(symbols='Al108', pbc=True, cell=[[12.222344243795412, 7.484027378120565e-16, 7.484027378120565e-16], [0.0, 12.222344243795412, 7.484027378120565e-16], [0.0, 0.0, 12.222344243795412]]),\n",
       "  (1.03,\n",
       "   0): Atoms(symbols='Al108', pbc=True, cell=[[12.262156721185125, 7.508405489621283e-16, 7.508405489621283e-16], [0.0, 12.262156721185125, 7.508405489621283e-16], [0.0, 0.0, 12.262156721185125]]),\n",
       "  (1.04,\n",
       "   0): Atoms(symbols='Al108', pbc=True, cell=[[12.301712339412747, 7.53262632024666e-16, 7.53262632024666e-16], [0.0, 12.301712339412747, 7.53262632024666e-16], [0.0, 0.0, 12.301712339412747]]),\n",
       "  (1.05,\n",
       "   0): Atoms(symbols='Al108', pbc=True, cell=[[12.341015201772375, 7.556692382539684e-16, 7.556692382539684e-16], [0.0, 12.341015201772375, 7.556692382539684e-16], [0.0, 0.0, 12.341015201772375]])}}"
      ]
     },
     "execution_count": 7,
     "metadata": {},
     "output_type": "execute_result"
    }
   ],
   "source": [
    "from atomistics.workflows.quasiharmonic.workflow import QuasiHarmonicWorkflow\n",
    "from phonopy.units import VaspToTHz\n",
    "\n",
    "calculator = QuasiHarmonicWorkflow(\n",
    "    structure=structure_opt,\n",
    "    num_points=11,\n",
    "    vol_range=0.05,\n",
    "    interaction_range=10,\n",
    "    factor=VaspToTHz,\n",
    "    displacement=0.01,\n",
    "    dos_mesh=20,\n",
    "    primitive_matrix=None,\n",
    "    number_of_snapshots=None,\n",
    ")\n",
    "structure_dict = calculator.generate_structures()\n",
    "structure_dict"
   ]
  },
  {
   "cell_type": "markdown",
   "id": "9dcd4a1e-7122-4f57-93c1-bd9267084f70",
   "metadata": {},
   "source": [
    "In contrast to the previous workflows which only used the `calc_energy` function of the simulation codes the `PhonopyWorkflow`\n",
    "and correspondingly also the `QuasiHarmonicWorkflow` require the calculation of the forces `calc_forces` in addition to\n",
    "the calculation of the energy. Still the general steps of the workflow remain the same: "
   ]
  },
  {
   "cell_type": "code",
   "execution_count": 8,
   "id": "2e96e588-e279-4d6c-8f40-2eafa982933b",
   "metadata": {},
   "outputs": [],
   "source": [
    "result_dict = evaluate_with_lammps(\n",
    "    task_dict=structure_dict,\n",
    "    potential_dataframe=potential_dataframe,\n",
    ")"
   ]
  },
  {
   "cell_type": "markdown",
   "id": "8fa40f79-f919-47df-ab07-c9a9dcd04b3d",
   "metadata": {},
   "source": [
    "The `structure_dict` is evaluated with the [LAMMPS](https://www.lammps.org/) molecular dynamics simulation code to \n",
    "calculate the corresponding energies and forces. The output is not plotted here as the forces for the 108 atom cells \n",
    "result in 3x108 outputs per cell. Still the structure of the `result_dict` again follows the labels of the `structure_dict`\n",
    "as explained before. Finally, in the third step the individual free energy curves at the different temperatures are \n",
    "fitted to determine the equilibrium volume at the given temperature. "
   ]
  },
  {
   "cell_type": "code",
   "execution_count": 9,
   "id": "c6644b87-7cb3-4a3c-8461-b2e9c173e2d6",
   "metadata": {},
   "outputs": [],
   "source": [
    "eng_internal_dict, mesh_collect_dict, dos_collect_dict = calculator.analyse_structures(output_dict=result_dict)\n",
    "tp_collect_dict = calculator.get_thermal_properties(t_min=1, t_max=1500, t_step=50, temperatures=None)  \n",
    "\n",
    "temperatures = tp_collect_dict[1.0]['temperatures']\n",
    "temperature_max = max(temperatures)\n",
    "strain_lst = eng_internal_dict.keys()\n",
    "volume_lst = calculator.get_volume_lst()\n",
    "eng_int_lst = np.array(list(eng_internal_dict.values()))\n",
    "\n",
    "fit_deg = 4\n",
    "vol_best = volume_lst[int(len(volume_lst)/2)]\n",
    "vol_lst, eng_lst = [], []\n",
    "for i, temp in enumerate(temperatures):\n",
    "    free_eng_lst = np.array([tp_collect_dict[s]['free_energy'][i] for s in strain_lst]) + eng_int_lst\n",
    "    p = np.polyfit(volume_lst, free_eng_lst, deg=fit_deg)\n",
    "    extrema = np.roots(np.polyder(p, m=1)).real\n",
    "    vol_select = extrema[np.argmin(np.abs(extrema - vol_best))]\n",
    "    eng_lst.append(np.poly1d(p)(vol_select))\n",
    "    vol_lst.append(vol_select)"
   ]
  },
  {
   "cell_type": "markdown",
   "id": "bb0db978-365f-43af-9a20-6ebb58fb8da9",
   "metadata": {},
   "source": [
    "The optimal volume at the different `temperatures` is stored in the `vol_lst` in analogy to the previous section. "
   ]
  },
  {
   "cell_type": "markdown",
   "id": "eb795fbd-0477-492a-b883-9cb31b58d3e2",
   "metadata": {},
   "source": [
    "### Molecular Dynamics\n",
    "Finally, the third and most commonly used method to determine the volume expansion is using a molecular dynamics \n",
    "calculation. While the `atomistics` package already includes a `LangevinWorkflow` at this point we use the [Nose-Hoover\n",
    "thermostat implemented in LAMMPS](https://docs.lammps.org/fix_nh.html) directly via the [pylammpsmpi](https://github.com/pyiron/pylammpsmpi)\n",
    "interface. "
   ]
  },
  {
   "cell_type": "code",
   "execution_count": 10,
   "id": "a41d36c9-34eb-46e0-b713-57941dfb0296",
   "metadata": {},
   "outputs": [],
   "source": [
    "from jinja2 import Template\n",
    "from pylammpsmpi import LammpsASELibrary\n",
    "from tqdm import tqdm\n",
    "\n",
    "def calc_thermal_expansion_md(structure, potential_dataframe, temperature_lst):\n",
    "    init_str = \"\"\"\\\n",
    "thermo_style custom step temp pe etotal pxx pxy pxz pyy pyz pzz vol\n",
    "thermo_modify format float %20.15g\n",
    "timestep 0.001\n",
    "thermo {{ thermotime }}\n",
    "velocity all create $(2 * {{ lowtemp }}) 4928459 dist gaussian\n",
    "\"\"\"\n",
    "\n",
    "    run_str = \"\"\"\\\n",
    "fix ensemble all npt temp {{ lowtemp }} {{ hightemp }} 0.1 iso 0.0 0.0 1.0\n",
    "run {{ steps }}\n",
    "\"\"\"\n",
    "\n",
    "    lmp = LammpsASELibrary()\n",
    "    potential_series = potential_dataframe.iloc[0]\n",
    "    lmp.interactive_structure_setter(\n",
    "        structure=structure,\n",
    "        units=\"metal\",\n",
    "        dimension=3,\n",
    "        boundary=\" \".join([\"p\" if coord else \"f\" for coord in structure.pbc]),\n",
    "        atom_style=\"atomic\",\n",
    "        el_eam_lst=potential_series.Species,\n",
    "        calc_md=False,\n",
    "    )\n",
    "    for c in potential_series.Config:\n",
    "        lmp.interactive_lib_command(c)\n",
    "    init_str_rendered = Template(init_str).render(\n",
    "        thermotime=100,\n",
    "        lowtemp=10\n",
    "    )\n",
    "    for l in init_str_rendered.split(\"\\n\"):\n",
    "        lmp.interactive_lib_command(l)\n",
    "    \n",
    "    volume_md_lst = []\n",
    "    for temp in tqdm(temperature_lst):\n",
    "        run_str_rendered = Template(run_str).render(\n",
    "            steps=100,\n",
    "            lowtemp=temp-5,\n",
    "            hightemp=temp,\n",
    "        )\n",
    "        for l in run_str_rendered.split(\"\\n\"):\n",
    "            lmp.interactive_lib_command(l)\n",
    "        volume_md_lst.append(lmp.interactive_volume_getter())\n",
    "    lmp.close()\n",
    "    return volume_md_lst"
   ]
  },
  {
   "cell_type": "markdown",
   "id": "d2efeb52-ee54-4eb0-878a-184f353941bf",
   "metadata": {},
   "source": [
    "The `calc_thermal_expansion_md()` function defines a loop over a vector of temperatures in 5K steps. For each step 100\n",
    "molecular dynamics steps are executed before the temperature is again increased by 5K. For ~280 steps with the Morse \n",
    "Pair Potential this takes approximately 5 minutes on a single core. These simulations can be further accelerated by \n",
    "adding the `cores` parameter during the initialization of the `LammpsASELibrary()`. The increase in computational cost\n",
    "is on the one hand related to the large number of force and energy calls and on the other hand to the size of the atomistic\n",
    "structure, as these simulations are typically executed with >5000 atoms rather than the 4 or 108 atoms in the other \n",
    "approximations. "
   ]
  },
  {
   "cell_type": "code",
   "execution_count": 11,
   "id": "9825f717-aef3-4e76-bbdb-cb4d3c00ef3a",
   "metadata": {},
   "outputs": [
    {
     "name": "stderr",
     "output_type": "stream",
     "text": [
      "100%|█████████████████████████████████████████| 278/278 [04:37<00:00,  1.00it/s]\n"
     ]
    }
   ],
   "source": [
    "structure_md = structure_opt.repeat(11)\n",
    "temperature_md_lst = np.linspace(15, 1400, 278)\n",
    "volume_md_lst = calc_thermal_expansion_md(\n",
    "    structure=structure_md, \n",
    "    potential_dataframe=potential_dataframe, \n",
    "    temperature_lst=temperature_md_lst, \n",
    ")"
   ]
  },
  {
   "cell_type": "markdown",
   "id": "1d13a43f-63d5-456d-abab-173ba744e467",
   "metadata": {},
   "source": [
    "The volume for the individual temperatures is stored in the `volume_md_lst` list. "
   ]
  },
  {
   "cell_type": "markdown",
   "id": "eff137a4-61fc-4cbe-8c60-b0dc534a5f3f",
   "metadata": {},
   "source": [
    "### Summary\n",
    "To visually compare the thermal expansion predicted by the three different approximations, the [matplotlib](https://matplotlib.org)\n",
    "is used to plot the temperature over the volume:"
   ]
  },
  {
   "cell_type": "code",
   "execution_count": 12,
   "id": "da8f641d-c5e6-4c10-8aeb-c891109e2e6d",
   "metadata": {},
   "outputs": [
    {
     "data": {
      "text/plain": [
       "Text(0, 0.5, 'Temperature')"
      ]
     },
     "execution_count": 12,
     "metadata": {},
     "output_type": "execute_result"
    },
    {
     "data": {
      "image/png": "[encoded data removed]",
      "text/plain": [
       "<Figure size 640x480 with 1 Axes>"
      ]
     },
     "metadata": {},
     "output_type": "display_data"
    }
   ],
   "source": [
    "import matplotlib.pyplot as plt\n",
    "plt.plot(np.array(volume_md_lst)/len(structure_md) * len(structure_opt), temperature_md_lst, label=\"Molecular Dynamics\", color=\"C2\")\n",
    "plt.plot(vol_lst, temperatures, label=\"Quasi-Harmonic\", color=\"C0\")\n",
    "plt.plot(pes.get_minimum_energy_path(), pes.temperatures, label=\"Moruzzi Model\", color=\"C1\")\n",
    "plt.legend()\n",
    "plt.xlabel(\"Volume\")\n",
    "plt.ylabel(\"Temperature\")"
   ]
  },
  {
   "cell_type": "markdown",
   "id": "03887d0e-da24-49ca-9bd8-9452fd666b3c",
   "metadata": {},
   "source": [
    "While the both the [Moruzzi, V. L. et al.](https://link.aps.org/doi/10.1103/PhysRevB.37.790) and the quasi-harmonic \n",
    "approach over-predict the volume expansion with increasing temperature the overall result is in reasonable agreement for\n",
    "the Morse Pair Potential. "
   ]
  },
  {
   "cell_type": "code",
   "execution_count": null,
   "id": "e7aeb2f2-12c5-492a-a821-384b030b4a68",
   "metadata": {},
   "outputs": [],
   "source": []
  }
 ],
 "metadata": {
  "kernelspec": {
   "display_name": "Python 3 (ipykernel)",
   "language": "python",
   "name": "python3"
  },
  "language_info": {
   "codemirror_mode": {
    "name": "ipython",
    "version": 3
   },
   "file_extension": ".py",
   "mimetype": "text/x-python",
   "name": "python",
   "nbconvert_exporter": "python",
   "pygments_lexer": "ipython3",
   "version": "3.10.13"
  }
 },
 "nbformat": 4,
 "nbformat_minor": 5
}
