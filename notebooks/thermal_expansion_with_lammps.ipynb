{
 "cells": [
  {
   "cell_type": "markdown",
   "id": "ce2efe0c-f86c-4cbd-ab3f-2aae9c5a574d",
   "metadata": {},
   "source": [
    "## Thermal Expansion \n",
    "Calculate the thermal expansion for a Morse Pair potential using the [LAMMPS](https://www.lammps.org/) molecular dynamics\n",
    "simulation code. In the following three methods to calculate the thermal expansion are introduced and compared for a \n",
    "Morse Pair Potential for Aluminium. \n",
    "\n",
    "As a first step the potential is defined for the [LAMMPS](https://www.lammps.org/) molecular dynamics simulation code \n",
    "by specifying the `pair_style` and `pair_coeff` commands for the [Morse Pair Potential](https://docs.lammps.org/pair_morse.html)\n",
    "as well as the Aluminium bulk structure: "
   ]
  },
  {
   "cell_type": "code",
   "execution_count": 1,
   "id": "7a96bac5-5afe-4924-90e5-04f6e6b2bedb",
   "metadata": {},
   "outputs": [],
   "source": [
    "from ase.build import bulk\n",
    "import pandas\n",
    "\n",
    "potential_dataframe = pandas.DataFrame({\n",
    "    \"Config\": [[\n",
    "        \"pair_style morse/smooth/linear 9.0\",\n",
    "        \"pair_coeff * * 0.5 1.8 2.95\"\n",
    "    ]],\n",
    "    \"Filename\": [[]],\n",
    "    \"Model\": [\"Morse\"],\n",
    "    \"Name\": [\"Morse\"],\n",
    "    \"Species\": [[\"Al\"]],\n",
    "}).iloc[0]\n",
    "\n",
    "structure = bulk(\"Al\", a=4.05, cubic=True)"
   ]
  },
  {
   "cell_type": "markdown",
   "id": "fe980834-e174-464a-8c07-04db9889a8c6",
   "metadata": {},
   "source": [
    "The `pandas.DataFrame` based format to specify interatomic potentials is the same `pylammpsmpi` uses to interface with \n",
    "the [NIST database for interatomic potentials](https://www.ctcms.nist.gov/potentials). In comparison to just providing\n",
    "the `pair_style` and `pair_coeff` commands, this extended format enables referencing specific files for the interatomic\n",
    "potentials `\"Filename\": [[]],` as well as the atomic species `\"Species\": [[\"Al\"]],` to enable consistency checks if the \n",
    "interatomic potential implements all the interactions to simulate a given atomic structure. "
   ]
  },
  {
   "cell_type": "markdown",
   "id": "6c120581-efd6-4204-8413-75ee81065db1",
   "metadata": {},
   "source": [
    "### Equation of State \n",
    "The first approximation to calculate the thermal expansion is based on the Equation of State derived by [Moruzzi, V. L. et al.](https://link.aps.org/doi/10.1103/PhysRevB.37.790).\n",
    "So in analogy to the previous example of calculating the elastic properties from the Equation of State, the `EnergyVolumeCurveWorkflow`\n",
    "is initialized with the default parameters: "
   ]
  },
  {
   "cell_type": "code",
   "execution_count": 2,
   "id": "b69b6ee2-b526-4913-a6c7-36018e8960af",
   "metadata": {},
   "outputs": [
    {
     "data": {
      "text/plain": [
       "{'calc_energy': OrderedDict([(0.95,\n",
       "               Atoms(symbols='Al4', pbc=True, cell=[3.9813426685908118, 3.9813426685908118, 3.9813426685908118])),\n",
       "              (0.96,\n",
       "               Atoms(symbols='Al4', pbc=True, cell=[3.9952635604153612, 3.9952635604153612, 3.9952635604153612])),\n",
       "              (0.97,\n",
       "               Atoms(symbols='Al4', pbc=True, cell=[4.009088111958974, 4.009088111958974, 4.009088111958974])),\n",
       "              (0.98,\n",
       "               Atoms(symbols='Al4', pbc=True, cell=[4.022817972936038, 4.022817972936038, 4.022817972936038])),\n",
       "              (0.99,\n",
       "               Atoms(symbols='Al4', pbc=True, cell=[4.036454748321015, 4.036454748321015, 4.036454748321015])),\n",
       "              (1.0, Atoms(symbols='Al4', pbc=True, cell=[4.05, 4.05, 4.05])),\n",
       "              (1.01,\n",
       "               Atoms(symbols='Al4', pbc=True, cell=[4.063455248345461, 4.063455248345461, 4.063455248345461])),\n",
       "              (1.02,\n",
       "               Atoms(symbols='Al4', pbc=True, cell=[4.076821973718458, 4.076821973718458, 4.076821973718458])),\n",
       "              (1.03,\n",
       "               Atoms(symbols='Al4', pbc=True, cell=[4.0901016179023415, 4.0901016179023415, 4.0901016179023415])),\n",
       "              (1.04,\n",
       "               Atoms(symbols='Al4', pbc=True, cell=[4.1032955854717175, 4.1032955854717175, 4.1032955854717175])),\n",
       "              (1.05,\n",
       "               Atoms(symbols='Al4', pbc=True, cell=[4.1164052451001565, 4.1164052451001565, 4.1164052451001565]))])}"
      ]
     },
     "execution_count": 2,
     "metadata": {},
     "output_type": "execute_result"
    }
   ],
   "source": [
    "from atomistics.calculators.lammps import evaluate_with_lammps, get_potential_dataframe\n",
    "from atomistics.workflows.evcurve.workflow import EnergyVolumeCurveWorkflow\n",
    "\n",
    "workflow = EnergyVolumeCurveWorkflow(\n",
    "    structure=structure,\n",
    "    num_points=11,\n",
    "    fit_type='polynomial',\n",
    "    fit_order=3,\n",
    "    vol_range=0.05,\n",
    "    axes=['x', 'y', 'z'],\n",
    "    strains=None,\n",
    ")\n",
    "structure_dict = workflow.generate_structures()\n",
    "structure_dict"
   ]
  },
  {
   "cell_type": "markdown",
   "id": "8f5d1e8d-0204-4dca-9298-878b9b2f6406",
   "metadata": {},
   "source": [
    "After the initialization the `generate_structures()` function is called to generate the atomistic structures which are\n",
    "then in the second step evaluated with the [LAMMPS](https://www.lammps.org/) molecular dynamics simulation code to derive\n",
    "the equilibrium properties:"
   ]
  },
  {
   "cell_type": "code",
   "execution_count": 3,
   "id": "7d1f126e-4fd0-41c5-986b-91d3b5910e3e",
   "metadata": {},
   "outputs": [
    {
     "name": "stderr",
     "output_type": "stream",
     "text": [
      "/home/janssen/mambaforge/lib/python3.10/site-packages/pylammpsmpi/wrapper/ase.py:165: UserWarning: Warning: setting upper trangular matrix might slow down the calculation\n",
      "  warnings.warn(\n"
     ]
    },
    {
     "data": {
      "text/plain": [
       "{'energy': {0.95: -14.619170288727801,\n",
       "  0.96: -14.664457483479836,\n",
       "  0.97: -14.697945635153152,\n",
       "  0.98: -14.720448033206749,\n",
       "  0.99: -14.732723972540498,\n",
       "  1.0: -14.73548275794779,\n",
       "  1.01: -14.729389420395107,\n",
       "  1.02: -14.715066161138207,\n",
       "  1.03: -14.693095226824505,\n",
       "  1.04: -14.664021603093682,\n",
       "  1.05: -14.628355511604163}}"
      ]
     },
     "execution_count": 3,
     "metadata": {},
     "output_type": "execute_result"
    }
   ],
   "source": [
    "result_dict = evaluate_with_lammps(\n",
    "    task_dict=structure_dict, \n",
    "    potential_dataframe=potential_dataframe\n",
    ")\n",
    "result_dict"
   ]
  },
  {
   "cell_type": "markdown",
   "id": "fb679eb1-338f-4485-a953-791e147fe632",
   "metadata": {},
   "source": [
    "While in the previous example the fit of the energy volume curve was used directly, there the output of the fit, in\n",
    "particular the derived equilibrium properties are the input for the Debye model as defined by [Moruzzi, V. L. et al.](https://link.aps.org/doi/10.1103/PhysRevB.37.790):"
   ]
  },
  {
   "cell_type": "code",
   "execution_count": 4,
   "id": "f0d0c14c-784a-41f7-8cfd-5ebd988e55c7",
   "metadata": {},
   "outputs": [
    {
     "name": "stderr",
     "output_type": "stream",
     "text": [
      "/home/janssen/mambaforge/lib/python3.10/site-packages/atomistics/shared/thermo/debye.py:9: RuntimeWarning: overflow encountered in exp\n",
      "  return xi**3 / (np.exp(xi) - 1)\n"
     ]
    }
   ],
   "source": [
    "from atomistics.shared.thermo.debye import get_debye_model\n",
    "from atomistics.shared.thermo.thermo import get_thermo_bulk_model\n",
    "import numpy as np\n",
    "\n",
    "debye_model = get_debye_model(\n",
    "    fit_dict=workflow.analyse_structures(output_dict=result_dict), \n",
    "    masses=structure.get_masses(), \n",
    "    num_steps=50\n",
    ")\n",
    "T_debye_low, T_debye_high = debye_model.debye_temperature\n",
    "pes = get_thermo_bulk_model(\n",
    "    temperatures=np.linspace(1, 1500, 200),\n",
    "    debye_model=debye_model,\n",
    ")"
   ]
  },
  {
   "cell_type": "markdown",
   "id": "35ab7b86-0688-4520-ad47-ea54b4bfde86",
   "metadata": {},
   "source": [
    "The output of the Debye model provides the change of the temperature specific optimal volume `pes.get_minimum_energy_path()`\n",
    "which can be plotted over the temperature `pes.temperatures` to determine the thermal expansion. "
   ]
  },
  {
   "cell_type": "markdown",
   "id": "88ccd1f0-98c5-4e13-ab2c-febe5d3f235b",
   "metadata": {},
   "source": [
    "### Quasi-Harmonic Approximation \n",
    "While the [Moruzzi, V. L. et al.](https://link.aps.org/doi/10.1103/PhysRevB.37.790) approach based on the Einstein crystal\n",
    "is limited to a single frequency, the quasi-harmonic model includes the volume dependent free energy. Inside the \n",
    "`atomistics` package the harmonic and quasi-harmonic model are implemented based on an interface to the [Phonopy](https://phonopy.github.io/phonopy/)\n",
    "framework. Still the user interface is still structured in the same three steps of (1) generating structures, (2) evaluating \n",
    "these structures and (3) fitting the corresponding model. Starting with the initialization of the `QuasiHarmonicWorkflow`\n",
    "which combines the `PhonopyWorkflow` with the `EnergyVolumeCurveWorkflow`:"
   ]
  },
  {
   "cell_type": "code",
   "execution_count": 5,
   "id": "493663b9-ea0c-4234-87ef-8f70774794f4",
   "metadata": {},
   "outputs": [
    {
     "data": {
      "text/plain": [
       "{'calc_energy': OrderedDict([(0.95,\n",
       "               Atoms(symbols='Al4', pbc=True, cell=[3.9813426685908118, 3.9813426685908118, 3.9813426685908118])),\n",
       "              (0.96,\n",
       "               Atoms(symbols='Al4', pbc=True, cell=[3.9952635604153612, 3.9952635604153612, 3.9952635604153612])),\n",
       "              (0.97,\n",
       "               Atoms(symbols='Al4', pbc=True, cell=[4.009088111958974, 4.009088111958974, 4.009088111958974])),\n",
       "              (0.98,\n",
       "               Atoms(symbols='Al4', pbc=True, cell=[4.022817972936038, 4.022817972936038, 4.022817972936038])),\n",
       "              (0.99,\n",
       "               Atoms(symbols='Al4', pbc=True, cell=[4.036454748321015, 4.036454748321015, 4.036454748321015])),\n",
       "              (1.0, Atoms(symbols='Al4', pbc=True, cell=[4.05, 4.05, 4.05])),\n",
       "              (1.01,\n",
       "               Atoms(symbols='Al4', pbc=True, cell=[4.063455248345461, 4.063455248345461, 4.063455248345461])),\n",
       "              (1.02,\n",
       "               Atoms(symbols='Al4', pbc=True, cell=[4.076821973718458, 4.076821973718458, 4.076821973718458])),\n",
       "              (1.03,\n",
       "               Atoms(symbols='Al4', pbc=True, cell=[4.0901016179023415, 4.0901016179023415, 4.0901016179023415])),\n",
       "              (1.04,\n",
       "               Atoms(symbols='Al4', pbc=True, cell=[4.1032955854717175, 4.1032955854717175, 4.1032955854717175])),\n",
       "              (1.05,\n",
       "               Atoms(symbols='Al4', pbc=True, cell=[4.1164052451001565, 4.1164052451001565, 4.1164052451001565]))]),\n",
       " 'calc_forces': {(0.95,\n",
       "   0): Atoms(symbols='Al108', pbc=True, cell=[11.944028005772434, 11.944028005772434, 11.944028005772434]),\n",
       "  (0.96,\n",
       "   0): Atoms(symbols='Al108', pbc=True, cell=[11.985790681246083, 11.985790681246083, 11.985790681246083]),\n",
       "  (0.97,\n",
       "   0): Atoms(symbols='Al108', pbc=True, cell=[12.027264335876922, 12.027264335876922, 12.027264335876922]),\n",
       "  (0.98,\n",
       "   0): Atoms(symbols='Al108', pbc=True, cell=[12.068453918808114, 12.068453918808114, 12.068453918808114]),\n",
       "  (0.99,\n",
       "   0): Atoms(symbols='Al108', pbc=True, cell=[12.109364244963045, 12.109364244963045, 12.109364244963045]),\n",
       "  (1.0,\n",
       "   0): Atoms(symbols='Al108', pbc=True, cell=[12.149999999999999, 12.149999999999999, 12.149999999999999]),\n",
       "  (1.01,\n",
       "   0): Atoms(symbols='Al108', pbc=True, cell=[12.190365745036383, 12.190365745036383, 12.190365745036383]),\n",
       "  (1.02,\n",
       "   0): Atoms(symbols='Al108', pbc=True, cell=[12.230465921155373, 12.230465921155373, 12.230465921155373]),\n",
       "  (1.03,\n",
       "   0): Atoms(symbols='Al108', pbc=True, cell=[12.270304853707025, 12.270304853707025, 12.270304853707025]),\n",
       "  (1.04,\n",
       "   0): Atoms(symbols='Al108', pbc=True, cell=[12.309886756415153, 12.309886756415153, 12.309886756415153]),\n",
       "  (1.05,\n",
       "   0): Atoms(symbols='Al108', pbc=True, cell=[12.349215735300469, 12.349215735300469, 12.349215735300469])}}"
      ]
     },
     "execution_count": 5,
     "metadata": {},
     "output_type": "execute_result"
    }
   ],
   "source": [
    "from atomistics.workflows.quasiharmonic.workflow import QuasiHarmonicWorkflow\n",
    "from phonopy.units import VaspToTHz\n",
    "\n",
    "calculator = QuasiHarmonicWorkflow(\n",
    "    structure=structure,\n",
    "    num_points=11,\n",
    "    vol_range=0.05,\n",
    "    interaction_range=10,\n",
    "    factor=VaspToTHz,\n",
    "    displacement=0.01,\n",
    "    dos_mesh=20,\n",
    "    primitive_matrix=None,\n",
    "    number_of_snapshots=None,\n",
    ")\n",
    "structure_dict = calculator.generate_structures()\n",
    "structure_dict"
   ]
  },
  {
   "cell_type": "markdown",
   "id": "9dcd4a1e-7122-4f57-93c1-bd9267084f70",
   "metadata": {},
   "source": [
    "In contrast to the previous workflows which only used the `calc_energy` function of the simulation codes the `PhonopyWorkflow`\n",
    "and correspondingly also the `QuasiHarmonicWorkflow` require the calculation of the forces `calc_forces` in addition to\n",
    "the calculation of the energy. Still the general steps of the workflow remain the same: "
   ]
  },
  {
   "cell_type": "code",
   "execution_count": 6,
   "id": "2e96e588-e279-4d6c-8f40-2eafa982933b",
   "metadata": {},
   "outputs": [
    {
     "name": "stderr",
     "output_type": "stream",
     "text": [
      "/home/janssen/mambaforge/lib/python3.10/site-packages/pylammpsmpi/wrapper/ase.py:165: UserWarning: Warning: setting upper trangular matrix might slow down the calculation\n",
      "  warnings.warn(\n"
     ]
    }
   ],
   "source": [
    "result_dict = evaluate_with_lammps(\n",
    "    task_dict=structure_dict,\n",
    "    potential_dataframe=potential_dataframe,\n",
    ")"
   ]
  },
  {
   "cell_type": "markdown",
   "id": "8fa40f79-f919-47df-ab07-c9a9dcd04b3d",
   "metadata": {},
   "source": [
    "The `structure_dict` is evaluated with the [LAMMPS](https://www.lammps.org/) molecular dynamics simulation code to \n",
    "calculate the corresponding energies and forces. The output is not plotted here as the forces for the 108 atom cells \n",
    "result in 3x108 outputs per cell. Still the structure of the `result_dict` again follows the labels of the `structure_dict`\n",
    "as explained before. Finally, in the third step the individual free energy curves at the different temperatures are \n",
    "fitted to determine the equilibrium volume at the given temperature. "
   ]
  },
  {
   "cell_type": "code",
   "execution_count": 7,
   "id": "c6644b87-7cb3-4a3c-8461-b2e9c173e2d6",
   "metadata": {},
   "outputs": [],
   "source": [
    "eng_internal_dict, mesh_collect_dict, dos_collect_dict = calculator.analyse_structures(output_dict=result_dict)\n",
    "tp_collect_dict = calculator.get_thermal_properties(t_min=1, t_max=1500, t_step=50, temperatures=None)  \n",
    "\n",
    "temperatures = tp_collect_dict[1.0]['temperatures']\n",
    "temperature_max = max(temperatures)\n",
    "strain_lst = eng_internal_dict.keys()\n",
    "volume_lst = calculator.get_volume_lst()\n",
    "eng_int_lst = np.array(list(eng_internal_dict.values()))\n",
    "\n",
    "fit_deg = 4\n",
    "vol_best = volume_lst[int(len(volume_lst)/2)]\n",
    "vol_lst, eng_lst = [], []\n",
    "for i, temp in enumerate(temperatures):\n",
    "    free_eng_lst = np.array([tp_collect_dict[s]['free_energy'][i] for s in strain_lst]) + eng_int_lst\n",
    "    p = np.polyfit(volume_lst, free_eng_lst, deg=fit_deg)\n",
    "    extrema = np.roots(np.polyder(p, m=1)).real\n",
    "    vol_select = extrema[np.argmin(np.abs(extrema - vol_best))]\n",
    "    eng_lst.append(np.poly1d(p)(vol_select))\n",
    "    vol_lst.append(vol_select)"
   ]
  },
  {
   "cell_type": "markdown",
   "id": "bb0db978-365f-43af-9a20-6ebb58fb8da9",
   "metadata": {},
   "source": [
    "The optimal volume at the different `temperatures` is stored in the `vol_lst` in analogy to the previous section. "
   ]
  },
  {
   "cell_type": "markdown",
   "id": "eb795fbd-0477-492a-b883-9cb31b58d3e2",
   "metadata": {},
   "source": [
    "### Molecular Dynamics\n",
    "Finally, the third and most commonly used method to determine the volume expansion is using a molecular dynamics \n",
    "calculation. While the `atomistics` package already includes a `LangevinWorkflow` at this point we use the [Nose-Hoover\n",
    "thermostat implemented in LAMMPS](https://docs.lammps.org/fix_nh.html) directly via the [pylammpsmpi](https://github.com/pyiron/pylammpsmpi)\n",
    "interface. "
   ]
  },
  {
   "cell_type": "code",
   "execution_count": 8,
   "id": "a41d36c9-34eb-46e0-b713-57941dfb0296",
   "metadata": {},
   "outputs": [],
   "source": [
    "from jinja2 import Template\n",
    "from pylammpsmpi import LammpsASELibrary\n",
    "from tqdm import tqdm\n",
    "\n",
    "def calc_thermal_expansion_md(structure, potential_dataframe, temperature_lst):\n",
    "    init_str = \"\"\"\\\n",
    "thermo_style custom step temp pe etotal pxx pxy pxz pyy pyz pzz vol\n",
    "thermo_modify format float %20.15g\n",
    "timestep 0.001\n",
    "thermo {{ thermotime }}\n",
    "velocity all create $(2 * {{ lowtemp }}) 4928459 dist gaussian\n",
    "\"\"\"\n",
    "\n",
    "    run_str = \"\"\"\\\n",
    "fix ensemble all npt temp {{ lowtemp }} {{ hightemp }} 0.1 iso 0.0 0.0 1.0\n",
    "run {{ steps }}\n",
    "\"\"\"\n",
    "\n",
    "    lmp = LammpsASELibrary()\n",
    "    lmp.interactive_structure_setter(\n",
    "        structure=structure,\n",
    "        units=\"metal\",\n",
    "        dimension=3,\n",
    "        boundary=\" \".join([\"p\" if coord else \"f\" for coord in structure.pbc]),\n",
    "        atom_style=\"atomic\",\n",
    "        el_eam_lst=potential_dataframe.Species,\n",
    "        calc_md=False,\n",
    "    )\n",
    "    for c in potential_dataframe.Config:\n",
    "        lmp.interactive_lib_command(c)\n",
    "    init_str_rendered = Template(init_str).render(\n",
    "        thermotime=100,\n",
    "        lowtemp=10\n",
    "    )\n",
    "    for l in init_str_rendered.split(\"\\n\"):\n",
    "        lmp.interactive_lib_command(l)\n",
    "    \n",
    "    volume_md_lst = []\n",
    "    for temp in tqdm(temperature_lst):\n",
    "        run_str_rendered = Template(run_str).render(\n",
    "            steps=100,\n",
    "            lowtemp=temp-5,\n",
    "            hightemp=temp,\n",
    "        )\n",
    "        for l in run_str_rendered.split(\"\\n\"):\n",
    "            lmp.interactive_lib_command(l)\n",
    "        volume_md_lst.append(lmp.interactive_volume_getter())\n",
    "    lmp.close()\n",
    "    return volume_md_lst"
   ]
  },
  {
   "cell_type": "markdown",
   "id": "d2efeb52-ee54-4eb0-878a-184f353941bf",
   "metadata": {},
   "source": [
    "The `calc_thermal_expansion_md()` function defines a loop over a vector of temperatures in 5K steps. For each step 100\n",
    "molecular dynamics steps are executed before the temperature is again increased by 5K. For ~280 steps with the Morse \n",
    "Pair Potential this takes approximately 5 minutes on a single core. These simulations can be further accelerated by \n",
    "adding the `cores` parameter during the initialization of the `LammpsASELibrary()`. The increase in computational cost\n",
    "is on the one hand related to the large number of force and energy calls and on the other hand to the size of the atomistic\n",
    "structure, as these simulations are typically executed with >5000 atoms rather than the 4 or 108 atoms in the other \n",
    "approximations. "
   ]
  },
  {
   "cell_type": "code",
   "execution_count": 9,
   "id": "9825f717-aef3-4e76-bbdb-cb4d3c00ef3a",
   "metadata": {},
   "outputs": [
    {
     "name": "stderr",
     "output_type": "stream",
     "text": [
      "100%|█████████████████████████████████████████████████████████████████████████████████████████████████████████████████████████████████████| 278/278 [04:36<00:00,  1.01it/s]\n"
     ]
    }
   ],
   "source": [
    "structure_md = structure.repeat(11)\n",
    "temperature_md_lst = np.linspace(15, 1400, 278)\n",
    "volume_md_lst = calc_thermal_expansion_md(\n",
    "    structure=structure_md, \n",
    "    potential_dataframe=potential_dataframe, \n",
    "    temperature_lst=temperature_md_lst, \n",
    ")"
   ]
  },
  {
   "cell_type": "markdown",
   "id": "1d13a43f-63d5-456d-abab-173ba744e467",
   "metadata": {},
   "source": [
    "The volume for the individual temperatures is stored in the `volume_md_lst` list. "
   ]
  },
  {
   "cell_type": "markdown",
   "id": "eff137a4-61fc-4cbe-8c60-b0dc534a5f3f",
   "metadata": {},
   "source": [
    "### Summary\n",
    "To visually compare the thermal expansion predicted by the three different approximations, the [matplotlib](https://matplotlib.org)\n",
    "is used to plot the temperature over the volume:"
   ]
  },
  {
   "cell_type": "code",
   "execution_count": 10,
   "id": "da8f641d-c5e6-4c10-8aeb-c891109e2e6d",
   "metadata": {},
   "outputs": [
    {
     "data": {
      "text/plain": [
       "Text(0, 0.5, 'Temperature')"
      ]
     },
     "execution_count": 10,
     "metadata": {},
     "output_type": "execute_result"
    },
    {
     "data": {
      "image/png": "[encoded data removed]",
      "text/plain": [
       "<Figure size 640x480 with 1 Axes>"
      ]
     },
     "metadata": {},
     "output_type": "display_data"
    }
   ],
   "source": [
    "import matplotlib.pyplot as plt\n",
    "plt.plot(np.array(volume_md_lst)/len(structure_md) * 4, temperature_md_lst, label=\"Molecular Dynamics\", color=\"C2\")\n",
    "plt.plot(vol_lst, temperatures, label=\"Quasi-Harmonic\", color=\"C0\")\n",
    "plt.plot(pes.get_minimum_energy_path(), pes.temperatures, label=\"Moruzzi Model\", color=\"C1\")\n",
    "plt.legend()\n",
    "plt.xlabel(\"Volume\")\n",
    "plt.ylabel(\"Temperature\")"
   ]
  },
  {
   "cell_type": "markdown",
   "id": "03887d0e-da24-49ca-9bd8-9452fd666b3c",
   "metadata": {},
   "source": [
    "While the both the [Moruzzi, V. L. et al.](https://link.aps.org/doi/10.1103/PhysRevB.37.790) and the quasi-harmonic \n",
    "approach over-predict the volume expansion with increasing temperature the overall result is in reasonable agreement for\n",
    "the Morse Pair Potential. "
   ]
  },
  {
   "cell_type": "code",
   "execution_count": null,
   "id": "e7aeb2f2-12c5-492a-a821-384b030b4a68",
   "metadata": {},
   "outputs": [],
   "source": []
  }
 ],
 "metadata": {
  "kernelspec": {
   "display_name": "Python 3 (ipykernel)",
   "language": "python",
   "name": "python3"
  },
  "language_info": {
   "codemirror_mode": {
    "name": "ipython",
    "version": 3
   },
   "file_extension": ".py",
   "mimetype": "text/x-python",
   "name": "python",
   "nbconvert_exporter": "python",
   "pygments_lexer": "ipython3",
   "version": "3.10.13"
  }
 },
 "nbformat": 4,
 "nbformat_minor": 5
}
